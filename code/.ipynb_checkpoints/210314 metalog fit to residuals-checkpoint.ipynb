{
 "cells": [
  {
   "cell_type": "code",
   "execution_count": 1,
   "metadata": {},
   "outputs": [
    {
     "name": "stdout",
     "output_type": "stream",
     "text": [
      "1.1.3\n",
      "1.19.2\n",
      "3.8.5\n",
      "Last Run 210321_213712Z UTC.\n"
     ]
    }
   ],
   "source": [
    "import pandas as pd\n",
    "import numpy as np\n",
    "from datetime import datetime\n",
    "from platform import python_version\n",
    "print(pd.__version__)\n",
    "print(np.__version__)\n",
    "print(python_version())\n",
    "print('Last Run ' + datetime.utcnow().strftime('%y%m%d_%H%M%SZ') + ' UTC.')"
   ]
  },
  {
   "cell_type": "code",
   "execution_count": 2,
   "metadata": {},
   "outputs": [],
   "source": [
    "%%capture\n",
    "import os, timeit, json, io\n",
    "from collections import Counter\n",
    "import pandas as pd\n",
    "import numpy as np\n",
    "import math as mt\n",
    "import scipy as sci\n",
    "import matplotlib as mpl\n",
    "import matplotlib.pyplot as plt\n",
    "import seaborn as sns\n",
    "from datetime import datetime\n",
    "import sympy as sym\n",
    "import functools as fct\n",
    "import itertools as it\n",
    "import matplotlib.image as mpimg\n",
    "import matplotlib.gridspec as gridspec\n",
    "from matplotlib.collections import PatchCollection\n",
    "from matplotlib.patches import Rectangle\n",
    "import matplotlib.patches as patches\n",
    "from sympy import *\n",
    "from sympy.utilities.lambdify import lambdify, implemented_function\n",
    "from statsmodels.distributions.empirical_distribution import ECDF\n",
    "import statsmodels.api as sm\n",
    "from statsmodels.nonparametric.smoothers_lowess import lowess\n",
    "from scipy import integrate\n",
    "import scipy.optimize\n",
    "from scipy.constants import golden\n",
    "# mpl.rcParams['font.sans-serif'] = \"Nunito\"\n",
    "# mpl.rcParams['font.family'] = 'Nunito'\n"
   ]
  },
  {
   "cell_type": "code",
   "execution_count": 3,
   "metadata": {},
   "outputs": [],
   "source": [
    "n = 4\n",
    "a = IndexedBase('a')\n",
    "𝜈, 𝘺, 𝛮, 𝗔, 𝝜= symbols('𝜈, 𝘺, 𝛮, 𝗔, 𝝜')\n",
    "𝜈 = symbols('𝜈', cls = Idx)\n",
    "𝛮 = n\n",
    "𝗔 = np.transpose(np.vstack([np.asarray([a[2*𝜈] for 𝜈 in range(int(ceiling(𝛮)) )]),\n",
    "                            np.asarray([a[2*𝜈+1] for 𝜈 in range(int(ceiling(𝛮)) )])] ))\n",
    "\n"
   ]
  },
  {
   "cell_type": "code",
   "execution_count": 4,
   "metadata": {},
   "outputs": [],
   "source": [
    "#\n",
    "# We perform linear solution of the quantile-distribution coefficients in accordance\n",
    "# with [Keelin2016] as described above. Our arguments are;\n",
    "# ⧐ series_len is the desired number of coefficients; and\n",
    "# ⧐ resid_samps is the sample to which the metalog distribution is fit. \n",
    "# We return a numeric matrix 𝗮 containing the coefficients. \n",
    "def metalog_quantile_coeffs(series_len, resid_samps):\n",
    "    #\n",
    "    # Set values for series-length and sample-size variables.  We cannot have a\n",
    "    # series lenght that exceeds the sample size.\n",
    "    series_len = min(len(resid_samps), series_len) # Number of coefficients\n",
    "    samp_size = len(resid_samps) # Number of observations\n",
    "    #\n",
    "    # Declare symbolic variables.\n",
    "    𝜉, 𝜂, 𝜁, 𝓎 = symbols('𝜉, 𝜂, 𝜁, 𝓎')\n",
    "    𝜈 = symbols('𝜈', cls = Idx)\n",
    "    a = IndexedBase('a')\n",
    "    #\n",
    "    # Construct a row symbolic row vector of terms for a simgle sample.\n",
    "    # This row vector contains elements from which we construct the data\n",
    "    # matrix to which we fit the distribution seris. These terms correspond to\n",
    "    # the convention of (4) in [Keelin2016].\n",
    "    𝓎 = Matrix([𝜉*𝜁\n",
    "                 for (𝜉, 𝜁) in list(it.product([(𝜂-Rational(1,2))**𝜈 for 𝜈 in range(int(ceiling(series_len/2)))],\n",
    "                                                      [1, ln(𝜂/(1-𝜂))]))])\n",
    "    𝓎.row_swap(2,3)\n",
    "    if 𝓎.shape[0] > samp_size:\n",
    "        𝓎.row_del(samp_size)\n",
    "    #\n",
    "    # Define an `implemented_function` in order to build the rows of the\n",
    "    # model matrix. This substitutes the empirical cumulative distribution \n",
    "    # (ECDF) values for the row-vector elements. The pattern is described in\n",
    "    # SymPy documentation https://t.ly/15sg. \n",
    "    f = implemented_function('f', lambda 𝜉 : np.array(𝓎.subs(𝜂, 𝜉))\n",
    "                                               .astype(np.float64))\n",
    "    𝜆_𝓎 = lambdify(𝜉, f(𝜉))\n",
    "    #\n",
    "    # Construct an ECDF for our residual sample set. Sort the sample set\n",
    "    # while constructing.\n",
    "    resid_samps = np.sort(resid_samps)\n",
    "    𝒫 = ECDF(resid_samps)(resid_samps)\n",
    "    #\n",
    "    # Use the statsmodels.regression.linear_model.OLS function to solve for\n",
    "    # the model coefficients https://t.ly/QgMv to estimate the coefficients.\n",
    "    # We drop the final sample, for which the ECDF value is unity. This provides\n",
    "    # problems for the logarithmic terms in the metalog terms.\n",
    "    metalog_ols = sm.OLS(endog = resid_samps[:-1],\n",
    "                         exog = np.matrix.transpose(np.hstack([𝜆_𝓎(𝑦) for 𝑦 in 𝒫[:-1]])),\n",
    "                         hasconst = True).fit()\n",
    "    #\n",
    "    # Our coefficient vector is the regression coefficients, resulting from the `params` method.\n",
    "    return (metalog_ols.params,\n",
    "            metalog_ols.rsquared)\n",
    "#\n",
    "# Construct a symbolic representation of the metalog series. This\n",
    "# is (4) from [Keelin2016]. It differs from the printed form in that\n",
    "# coefficients are zero-indexed as opposed to unity-indexed.\n",
    "def metalog_quantile_series(n):\n",
    "    a = IndexedBase('a')\n",
    "    𝜈, y, 𝛮, 𝗔, 𝝜= symbols('𝜈, y, 𝛮, 𝗔, 𝝜')\n",
    "    𝜈 = symbols('𝜈', cls = Idx)\n",
    "    𝛮 = n\n",
    "    𝗔 = np.transpose(np.vstack([np.asarray([a[2*𝜈] for 𝜈 in range(int(ceiling(𝛮)) )]),\n",
    "                                np.asarray([a[2*𝜈+1] for 𝜈 in range(int(ceiling(𝛮)) )])] ))\n",
    "    𝗔 = np.vstack([𝗔[0,:],\n",
    "                    np.flip(m = 𝗔[1,:],\n",
    "                            axis = 0),\n",
    "                    𝗔[2:,:]])\n",
    "\n",
    "    𝝜 = ((Matrix([Pow(y-Rational(1,2), 𝜈) \n",
    "                   for 𝜈 in range(int(ceiling(𝛮)))]).T)*𝗔*Matrix([[1],\n",
    "                                                                   [ln(y/(1-y))]]))\\\n",
    "            .subs([(a[𝜈],0) for 𝜈 in range(𝛮,2*𝛮+1)])\n",
    "    return 𝝜[0,0]\n",
    "#\n",
    "\n",
    "\n",
    "\n",
    "# Construct a function to numerically calculate values from\n",
    "# a symbolic function based on a metalog series. \n",
    "# For flexibility, these functions are represented\n",
    "# as symbolic objects. This is suboptimum for numeric-calculation\n",
    "# purposes. Here, we create a function that numerically calculates \n",
    "# quantile-function values in a more-efficient fashion.\n",
    "#\n",
    "# Our function inputs are:\n",
    "# ⧐ `metalog_based_function` is a symbolic representation of a\n",
    "#    function based on a metalog quantile series; and\n",
    "# ⧐ `megalog_coeffs` is a corresponding set of coeffients.\n",
    "#\n",
    "# This function performs substitution operations to replace the \n",
    "# symbolic coefficients in `metalog_based_series` with numeric\n",
    "# values from `metalog_coeffs`. It then uses the SymPi `lambdify`\n",
    "# feature to transform the symbolic object into a numeric function\n",
    "# according to the logic patter in https://t.ly/FqPc.\n",
    "#\n",
    "def construct_metalog_based_fct(metalog_based_function,\n",
    "                                metalog_coeffs):\n",
    "    # Declare symbolic variables.\n",
    "    a = IndexedBase('a') # An indexed variable for coefficients.\n",
    "    𝜉, 𝜂, 𝜁, y = symbols('𝜉, 𝜂, 𝜁, y') # Domain and range variables.\n",
    "    #\n",
    "    # Create a dictionary mapping index-based symbols to their\n",
    "    # numerical values in `metalog_coeffs`.\n",
    "    coeff_map = dict(zip([a[𝜄] for 𝜄 in range(series_len)],\n",
    "                         metalog_coeffs))\n",
    "    #\n",
    "    # Define the `implemented_function` object and then lambdify.\n",
    "    # Apply the pattern in https://t.ly/BUbo. Our implemented_function\n",
    "    # substitutes the index-based coefficient symbols for their numeric values,\n",
    "    # and the main-function domain variable for another.\n",
    "    metalog_fct = implemented_function('metalog_fct', lambda 𝜂: metalog_based_function.subs(y, 𝜂)\\\n",
    "                                                                                      .subs(coeff_map))\n",
    "    metalog_fct_𝜆 = lambdify(y, metalog_fct(y) )\n",
    "    #\n",
    "    # Return our lambdified object.\n",
    "    return metalog_fct_𝜆\n",
    "#\n"
   ]
  },
  {
   "cell_type": "code",
   "execution_count": 5,
   "metadata": {},
   "outputs": [],
   "source": [
    "# Read in the model-residual data. This is contained in an json file.\n",
    "# Upon reading it in, we immediately transform it to a dictionary using\n",
    "# the `pandas.DataFrame.from_dict(orient = 'index')` method. Our dictionary \n",
    "# indices got transformed to strings when exported as json. We need immediately \n",
    "# to cast them as integers.\n",
    "model_residuals = pd.DataFrame.from_dict(data = json.load(open(os.path.join('../data',\n",
    "                                                                            'model_residuals.json'))),\n",
    "                                         orient = 'index')\\\n",
    "                              .rename_axis(index = 'hashkey')\n",
    "model_residuals.rename(index = dict(zip(model_residuals.index.tolist(),\n",
    "                                        map(int, model_residuals.index.tolist()))),\n",
    "                       inplace = True)"
   ]
  },
  {
   "cell_type": "code",
   "execution_count": 6,
   "metadata": {},
   "outputs": [],
   "source": [
    "# Our data contain k-neighbor clusters of estimates and residuals.\n",
    "# These result from looking for the best k-neighbors regressor fit\n",
    "# of the estimates to the residuals. This produces an approximation\n",
    "# of LOWESS. Draw out a sample neighborhood of (estimate, residual)\n",
    "# tuples. We subsequently fit the residuals' scatter in this neighborhood\n",
    "# to a metalog distribution.\n",
    "sample_neighborhood = model_residuals.loc[model_residuals.loc[np.random.choice(a = model_residuals.index),\n",
    "                                                              'resid_cluster'],\n",
    "                                          ['estimate', 'residual', 'lowess']].sort_values(by = 'estimate')"
   ]
  },
  {
   "cell_type": "code",
   "execution_count": 7,
   "metadata": {},
   "outputs": [],
   "source": [
    "series_len = 4\n",
    "resid_samps = np.sort(sample_neighborhood['residual'])\n",
    "\n",
    "metalog_based_function = metalog_quantile_series(series_len)\n",
    "metalog_coeffs = metalog_quantile_coeffs(series_len, \n",
    "                                         resid_samps)[0]\n",
    "M_𝓎 = construct_metalog_based_fct(metalog_based_function,\n",
    "                                  metalog_coeffs)\n",
    "resid_samps_ecdf = ECDF(resid_samps)(resid_samps)"
   ]
  },
  {
   "cell_type": "code",
   "execution_count": 8,
   "metadata": {},
   "outputs": [
    {
     "data": {
      "text/plain": [
       "0.05   -21532.419680\n",
       "0.10   -13067.344759\n",
       "0.25    -3852.992936\n",
       "0.50     1194.867001\n",
       "0.75     6365.693832\n",
       "0.90    15850.572819\n",
       "0.95    24515.377817\n",
       "dtype: float64"
      ]
     },
     "execution_count": 8,
     "metadata": {},
     "output_type": "execute_result"
    }
   ],
   "source": [
    "quantile_cuts = [0.05, 0.1, 0.25, 0.5, 0.75, 0.9, 0.95]\n",
    "pd.Series(dict(zip(quantile_cuts, \n",
    "         map(M_𝓎, quantile_cuts)))).astype(float)"
   ]
  },
  {
   "cell_type": "code",
   "execution_count": 9,
   "metadata": {},
   "outputs": [
    {
     "data": {
      "image/png": "[encoded data removed]",
      "text/plain": [
       "<Figure size 582.492x360 with 1 Axes>"
      ]
     },
     "metadata": {
      "needs_background": "light"
     },
     "output_type": "display_data"
    }
   ],
   "source": [
    "# Visualize the distribution of residuals in the neighborhood.\n",
    "# \n",
    "est_resid_fig, est_resid_ax = plt.subplots(nrows = 1,\n",
    "                                           ncols = 1,\n",
    "                                           figsize = (5 * golden, 5))\n",
    "est_resid_ax.scatter(sample_neighborhood['estimate'],\n",
    "                     sample_neighborhood['residual'],\n",
    "                     marker = '+',\n",
    "                     s = 10,\n",
    "                     color = '#c66e4e',\n",
    "                     label = '$(\\hat{y}_i,\\,\\epsilon_i)$')\n",
    "sns.kdeplot(data = sample_neighborhood,\n",
    "            x = 'estimate',\n",
    "            y = 'residual',\n",
    "            ax = est_resid_ax,\n",
    "            color = '#8e9fbc')\n",
    "est_resid_ax.plot(sample_neighborhood['estimate'],\n",
    "                  sample_neighborhood['lowess'],\n",
    "                  color = '#f2a900',\n",
    "                  linewidth = 3,\n",
    "                  label = 'LOWESS')\n",
    "est_resid_ax.legend();\n",
    "est_resid_ax.grid(color = '#d7d2cb')"
   ]
  },
  {
   "cell_type": "code",
   "execution_count": 10,
   "metadata": {},
   "outputs": [
    {
     "data": {
      "image/png": "[encoded data removed]",
      "text/plain": [
       "<Figure size 1164.98x360 with 2 Axes>"
      ]
     },
     "metadata": {
      "needs_background": "light"
     },
     "output_type": "display_data"
    }
   ],
   "source": [
    "resid_fig, (resid_kde, resid_ecdf_ax) = plt.subplots(nrows = 1,\n",
    "                                                   ncols = 2,\n",
    "                                                   figsize = (10 * golden, 5))\n",
    "sns.kdeplot(data = sample_neighborhood,\n",
    "            x = 'residual',\n",
    "            ax = resid_kde)\n",
    "resid_ecdf_ax.plot(resid_samps, \n",
    "                   resid_samps_ecdf,\n",
    "                   label = 'statsmodels.ECDF')\n",
    "resid_ecdf_ax.plot(list(map(M_𝓎,\n",
    "                         np.linspace(start = 0.01,\n",
    "                                     stop = 0.99,\n",
    "                                     num = 50))),\n",
    "                np.linspace(start = 0.01,\n",
    "                             stop = 0.99,\n",
    "                             num = 50),\n",
    "                label = 'Metalog fit')\n",
    "resid_ecdf_ax.legend();"
   ]
  },
  {
   "cell_type": "code",
   "execution_count": null,
   "metadata": {},
   "outputs": [],
   "source": []
  },
  {
   "cell_type": "code",
   "execution_count": 11,
   "metadata": {},
   "outputs": [],
   "source": [
    "hashkey = np.random.choice(a = model_residuals.index)"
   ]
  },
  {
   "cell_type": "code",
   "execution_count": 12,
   "metadata": {},
   "outputs": [
    {
     "data": {
      "text/html": [
       "<div>\n",
       "<style scoped>\n",
       "    .dataframe tbody tr th:only-of-type {\n",
       "        vertical-align: middle;\n",
       "    }\n",
       "\n",
       "    .dataframe tbody tr th {\n",
       "        vertical-align: top;\n",
       "    }\n",
       "\n",
       "    .dataframe thead th {\n",
       "        text-align: right;\n",
       "    }\n",
       "</style>\n",
       "<table border=\"1\" class=\"dataframe\">\n",
       "  <thead>\n",
       "    <tr style=\"text-align: right;\">\n",
       "      <th></th>\n",
       "      <th>estimate</th>\n",
       "      <th>residual</th>\n",
       "      <th>lowess</th>\n",
       "    </tr>\n",
       "    <tr>\n",
       "      <th>hashkey</th>\n",
       "      <th></th>\n",
       "      <th></th>\n",
       "      <th></th>\n",
       "    </tr>\n",
       "  </thead>\n",
       "  <tbody>\n",
       "    <tr>\n",
       "      <th>3499675265606759270</th>\n",
       "      <td>403441.491543</td>\n",
       "      <td>21558.508457</td>\n",
       "      <td>10844.334550</td>\n",
       "    </tr>\n",
       "    <tr>\n",
       "      <th>2131069649194163858</th>\n",
       "      <td>408760.673325</td>\n",
       "      <td>93076.326675</td>\n",
       "      <td>11232.256417</td>\n",
       "    </tr>\n",
       "    <tr>\n",
       "      <th>-31759830283846821</th>\n",
       "      <td>399067.815071</td>\n",
       "      <td>-14067.815071</td>\n",
       "      <td>10525.485040</td>\n",
       "    </tr>\n",
       "    <tr>\n",
       "      <th>-354344504592484847</th>\n",
       "      <td>412102.274359</td>\n",
       "      <td>34158.725641</td>\n",
       "      <td>11475.986917</td>\n",
       "    </tr>\n",
       "    <tr>\n",
       "      <th>7038156713613545229</th>\n",
       "      <td>412236.885943</td>\n",
       "      <td>-2236.885943</td>\n",
       "      <td>11485.805359</td>\n",
       "    </tr>\n",
       "    <tr>\n",
       "      <th>...</th>\n",
       "      <td>...</td>\n",
       "      <td>...</td>\n",
       "      <td>...</td>\n",
       "    </tr>\n",
       "    <tr>\n",
       "      <th>1160745910380347583</th>\n",
       "      <td>316993.589320</td>\n",
       "      <td>33006.410680</td>\n",
       "      <td>4991.553884</td>\n",
       "    </tr>\n",
       "    <tr>\n",
       "      <th>-1196740800141569341</th>\n",
       "      <td>316482.459518</td>\n",
       "      <td>-3482.459518</td>\n",
       "      <td>4960.675522</td>\n",
       "    </tr>\n",
       "    <tr>\n",
       "      <th>7376176920508556600</th>\n",
       "      <td>316133.631687</td>\n",
       "      <td>8866.368313</td>\n",
       "      <td>4939.572822</td>\n",
       "    </tr>\n",
       "    <tr>\n",
       "      <th>-1196115453335340163</th>\n",
       "      <td>314754.512877</td>\n",
       "      <td>-8754.512877</td>\n",
       "      <td>4855.914359</td>\n",
       "    </tr>\n",
       "    <tr>\n",
       "      <th>2375233649096212965</th>\n",
       "      <td>314203.140512</td>\n",
       "      <td>2796.859488</td>\n",
       "      <td>4822.369295</td>\n",
       "    </tr>\n",
       "  </tbody>\n",
       "</table>\n",
       "<p>115 rows × 3 columns</p>\n",
       "</div>"
      ],
      "text/plain": [
       "                           estimate      residual        lowess\n",
       "hashkey                                                        \n",
       " 3499675265606759270  403441.491543  21558.508457  10844.334550\n",
       " 2131069649194163858  408760.673325  93076.326675  11232.256417\n",
       "-31759830283846821    399067.815071 -14067.815071  10525.485040\n",
       "-354344504592484847   412102.274359  34158.725641  11475.986917\n",
       " 7038156713613545229  412236.885943  -2236.885943  11485.805359\n",
       "...                             ...           ...           ...\n",
       " 1160745910380347583  316993.589320  33006.410680   4991.553884\n",
       "-1196740800141569341  316482.459518  -3482.459518   4960.675522\n",
       " 7376176920508556600  316133.631687   8866.368313   4939.572822\n",
       "-1196115453335340163  314754.512877  -8754.512877   4855.914359\n",
       " 2375233649096212965  314203.140512   2796.859488   4822.369295\n",
       "\n",
       "[115 rows x 3 columns]"
      ]
     },
     "execution_count": 12,
     "metadata": {},
     "output_type": "execute_result"
    }
   ],
   "source": [
    "\n",
    "model_residuals.loc[model_residuals.loc[hashkey,\n",
    "                                       'resid_cluster'],\n",
    "                   ['estimate', 'residual', 'lowess']]"
   ]
  },
  {
   "cell_type": "code",
   "execution_count": 13,
   "metadata": {},
   "outputs": [],
   "source": [
    "resid_quantiles = dict()\n",
    "failed_estiamte = list()\n",
    "quantile_cuts = [0.05, 0.1, 0.25, 0.5, 0.75, 0.9, 0.95]\n",
    "series_len = 5\n",
    "metalog_based_function = metalog_quantile_series(series_len)\n",
    "for hashkey in model_residuals.index:\n",
    "    sample_neighborhood = model_residuals.loc[model_residuals.loc[hashkey,\n",
    "                                                                   'resid_cluster'],\n",
    "                                               ['estimate', 'residual', 'lowess']].sort_values(by = 'estimate')\n",
    "    resid_samps = np.sort(sample_neighborhood['residual'])\n",
    "    metalog_coeffs = metalog_quantile_coeffs(series_len, \n",
    "                                             resid_samps)[0]\n",
    "    M_𝓎 = construct_metalog_based_fct(metalog_based_function,\n",
    "                                      metalog_coeffs)\n",
    "    try:\n",
    "        resid_quantiles.update({hashkey : dict(zip(quantile_cuts,\n",
    "                                                    map(M_𝓎, quantile_cuts)))})\n",
    "    except:\n",
    "        failed_estiamte.update(hashkey)    "
   ]
  },
  {
   "cell_type": "code",
   "execution_count": 17,
   "metadata": {},
   "outputs": [],
   "source": [
    "residual_quantile_cuts = pd.merge(left = model_residuals[['estimate']],\n",
    "                                 right = pd.DataFrame.from_dict(data = resid_quantiles,\n",
    "                                                                orient = 'index').astype(float),\n",
    "                                 left_index = True,\n",
    "                                 right_index = True).set_index(keys = 'estimate',\n",
    "                                                               drop = True)\\\n",
    "                                                    .sort_index(axis = 0)"
   ]
  },
  {
   "cell_type": "code",
   "execution_count": 18,
   "metadata": {},
   "outputs": [
    {
     "data": {
      "text/html": [
       "<div>\n",
       "<style scoped>\n",
       "    .dataframe tbody tr th:only-of-type {\n",
       "        vertical-align: middle;\n",
       "    }\n",
       "\n",
       "    .dataframe tbody tr th {\n",
       "        vertical-align: top;\n",
       "    }\n",
       "\n",
       "    .dataframe thead th {\n",
       "        text-align: right;\n",
       "    }\n",
       "</style>\n",
       "<table border=\"1\" class=\"dataframe\">\n",
       "  <thead>\n",
       "    <tr style=\"text-align: right;\">\n",
       "      <th></th>\n",
       "      <th>0.05</th>\n",
       "      <th>0.10</th>\n",
       "      <th>0.25</th>\n",
       "      <th>0.50</th>\n",
       "      <th>0.75</th>\n",
       "      <th>0.90</th>\n",
       "      <th>0.95</th>\n",
       "    </tr>\n",
       "    <tr>\n",
       "      <th>estimate</th>\n",
       "      <th></th>\n",
       "      <th></th>\n",
       "      <th></th>\n",
       "      <th></th>\n",
       "      <th></th>\n",
       "      <th></th>\n",
       "      <th></th>\n",
       "    </tr>\n",
       "  </thead>\n",
       "  <tbody>\n",
       "    <tr>\n",
       "      <th>42883.022085</th>\n",
       "      <td>-35319.062396</td>\n",
       "      <td>-24494.121809</td>\n",
       "      <td>-10914.154688</td>\n",
       "      <td>-1865.042121</td>\n",
       "      <td>5671.656694</td>\n",
       "      <td>18782.717485</td>\n",
       "      <td>31368.408817</td>\n",
       "    </tr>\n",
       "    <tr>\n",
       "      <th>43912.459716</th>\n",
       "      <td>-33442.371827</td>\n",
       "      <td>-23640.829102</td>\n",
       "      <td>-10796.230085</td>\n",
       "      <td>-1792.552880</td>\n",
       "      <td>5252.299762</td>\n",
       "      <td>17035.260163</td>\n",
       "      <td>28446.947379</td>\n",
       "    </tr>\n",
       "    <tr>\n",
       "      <th>45796.806568</th>\n",
       "      <td>-33158.978879</td>\n",
       "      <td>-23449.275406</td>\n",
       "      <td>-10715.485557</td>\n",
       "      <td>-1780.179730</td>\n",
       "      <td>5206.470074</td>\n",
       "      <td>16878.593410</td>\n",
       "      <td>28181.910590</td>\n",
       "    </tr>\n",
       "    <tr>\n",
       "      <th>48887.244889</th>\n",
       "      <td>-34273.105396</td>\n",
       "      <td>-24168.649678</td>\n",
       "      <td>-11011.077655</td>\n",
       "      <td>-1849.170995</td>\n",
       "      <td>5384.162196</td>\n",
       "      <td>17531.819690</td>\n",
       "      <td>29273.677737</td>\n",
       "    </tr>\n",
       "    <tr>\n",
       "      <th>49604.008642</th>\n",
       "      <td>-33189.925135</td>\n",
       "      <td>-23470.494591</td>\n",
       "      <td>-10724.556070</td>\n",
       "      <td>-1781.447729</td>\n",
       "      <td>5211.474166</td>\n",
       "      <td>16895.410944</td>\n",
       "      <td>28210.442379</td>\n",
       "    </tr>\n",
       "    <tr>\n",
       "      <th>...</th>\n",
       "      <td>...</td>\n",
       "      <td>...</td>\n",
       "      <td>...</td>\n",
       "      <td>...</td>\n",
       "      <td>...</td>\n",
       "      <td>...</td>\n",
       "      <td>...</td>\n",
       "    </tr>\n",
       "    <tr>\n",
       "      <th>508789.763940</th>\n",
       "      <td>-254221.642955</td>\n",
       "      <td>-131936.368651</td>\n",
       "      <td>-25994.811237</td>\n",
       "      <td>7329.249673</td>\n",
       "      <td>64739.235196</td>\n",
       "      <td>176580.175179</td>\n",
       "      <td>268510.939274</td>\n",
       "    </tr>\n",
       "    <tr>\n",
       "      <th>511457.739217</th>\n",
       "      <td>-256639.589880</td>\n",
       "      <td>-133801.954979</td>\n",
       "      <td>-27003.435079</td>\n",
       "      <td>6633.115762</td>\n",
       "      <td>63736.066136</td>\n",
       "      <td>176234.460587</td>\n",
       "      <td>269427.871422</td>\n",
       "    </tr>\n",
       "    <tr>\n",
       "      <th>518920.841715</th>\n",
       "      <td>-253397.613450</td>\n",
       "      <td>-131809.793450</td>\n",
       "      <td>-26619.048072</td>\n",
       "      <td>6524.002970</td>\n",
       "      <td>64115.099847</td>\n",
       "      <td>175858.189898</td>\n",
       "      <td>267467.655921</td>\n",
       "    </tr>\n",
       "    <tr>\n",
       "      <th>521630.594945</th>\n",
       "      <td>-262367.914287</td>\n",
       "      <td>-137210.849296</td>\n",
       "      <td>-27872.198087</td>\n",
       "      <td>6779.894844</td>\n",
       "      <td>64365.611166</td>\n",
       "      <td>178734.690628</td>\n",
       "      <td>274123.793803</td>\n",
       "    </tr>\n",
       "    <tr>\n",
       "      <th>528330.364005</th>\n",
       "      <td>-252496.297499</td>\n",
       "      <td>-131304.617363</td>\n",
       "      <td>-26415.555157</td>\n",
       "      <td>6497.647077</td>\n",
       "      <td>63523.274291</td>\n",
       "      <td>174737.471398</td>\n",
       "      <td>266159.824457</td>\n",
       "    </tr>\n",
       "  </tbody>\n",
       "</table>\n",
       "<p>2041 rows × 7 columns</p>\n",
       "</div>"
      ],
      "text/plain": [
       "                        0.05           0.10          0.25         0.50  \\\n",
       "estimate                                                                 \n",
       "42883.022085   -35319.062396  -24494.121809 -10914.154688 -1865.042121   \n",
       "43912.459716   -33442.371827  -23640.829102 -10796.230085 -1792.552880   \n",
       "45796.806568   -33158.978879  -23449.275406 -10715.485557 -1780.179730   \n",
       "48887.244889   -34273.105396  -24168.649678 -11011.077655 -1849.170995   \n",
       "49604.008642   -33189.925135  -23470.494591 -10724.556070 -1781.447729   \n",
       "...                      ...            ...           ...          ...   \n",
       "508789.763940 -254221.642955 -131936.368651 -25994.811237  7329.249673   \n",
       "511457.739217 -256639.589880 -133801.954979 -27003.435079  6633.115762   \n",
       "518920.841715 -253397.613450 -131809.793450 -26619.048072  6524.002970   \n",
       "521630.594945 -262367.914287 -137210.849296 -27872.198087  6779.894844   \n",
       "528330.364005 -252496.297499 -131304.617363 -26415.555157  6497.647077   \n",
       "\n",
       "                       0.75           0.90           0.95  \n",
       "estimate                                                   \n",
       "42883.022085    5671.656694   18782.717485   31368.408817  \n",
       "43912.459716    5252.299762   17035.260163   28446.947379  \n",
       "45796.806568    5206.470074   16878.593410   28181.910590  \n",
       "48887.244889    5384.162196   17531.819690   29273.677737  \n",
       "49604.008642    5211.474166   16895.410944   28210.442379  \n",
       "...                     ...            ...            ...  \n",
       "508789.763940  64739.235196  176580.175179  268510.939274  \n",
       "511457.739217  63736.066136  176234.460587  269427.871422  \n",
       "518920.841715  64115.099847  175858.189898  267467.655921  \n",
       "521630.594945  64365.611166  178734.690628  274123.793803  \n",
       "528330.364005  63523.274291  174737.471398  266159.824457  \n",
       "\n",
       "[2041 rows x 7 columns]"
      ]
     },
     "execution_count": 18,
     "metadata": {},
     "output_type": "execute_result"
    }
   ],
   "source": [
    "residual_quantile_cuts"
   ]
  },
  {
   "cell_type": "code",
   "execution_count": 25,
   "metadata": {},
   "outputs": [],
   "source": [
    "quant_cut = np.random.choice(a = residual_quantile_cuts.columns)\n",
    "cut_lowess = lowess(endog = residual_quantile_cuts[quant_cut],\n",
    "                          exog = residual_quantile_cuts.index)\n"
   ]
  },
  {
   "cell_type": "code",
   "execution_count": null,
   "metadata": {},
   "outputs": [],
   "source": []
  },
  {
   "cell_type": "code",
   "execution_count": 27,
   "metadata": {},
   "outputs": [
    {
     "data": {
      "text/plain": [
       "[<matplotlib.lines.Line2D at 0x7ff0b555be20>]"
      ]
     },
     "execution_count": 27,
     "metadata": {},
     "output_type": "execute_result"
    },
    {
     "data": {
      "image/png": "[encoded data removed]",
      "text/plain": [
       "<Figure size 432x288 with 1 Axes>"
      ]
     },
     "metadata": {
      "needs_background": "light"
     },
     "output_type": "display_data"
    }
   ],
   "source": [
    "plt.plot(residual_quantile_cuts.index,\n",
    "         residual_quantile_cuts[quant_cut])\n",
    "plt.plot(quant_cut_lowess[:,0],\n",
    "         quant_cut_lowess[:,1])"
   ]
  },
  {
   "cell_type": "code",
   "execution_count": null,
   "metadata": {},
   "outputs": [],
   "source": []
  },
  {
   "cell_type": "code",
   "execution_count": null,
   "metadata": {},
   "outputs": [],
   "source": []
  },
  {
   "cell_type": "code",
   "execution_count": null,
   "metadata": {},
   "outputs": [],
   "source": []
  },
  {
   "cell_type": "code",
   "execution_count": null,
   "metadata": {},
   "outputs": [],
   "source": []
  },
  {
   "cell_type": "code",
   "execution_count": null,
   "metadata": {},
   "outputs": [],
   "source": []
  },
  {
   "cell_type": "code",
   "execution_count": null,
   "metadata": {},
   "outputs": [],
   "source": []
  },
  {
   "cell_type": "markdown",
   "metadata": {},
   "source": [
    "⛔️🛑🚫⛔️🛑🚫⛔️🛑🚫⛔️🛑🚫⛔️🛑🚫⛔️🛑🚫⛔️🛑🚫⛔️🛑🚫⛔️🛑🚫⛔️🛑🚫⛔️🛑🚫"
   ]
  },
  {
   "cell_type": "code",
   "execution_count": null,
   "metadata": {},
   "outputs": [],
   "source": []
  },
  {
   "cell_type": "code",
   "execution_count": null,
   "metadata": {},
   "outputs": [],
   "source": []
  },
  {
   "cell_type": "code",
   "execution_count": 29,
   "metadata": {},
   "outputs": [],
   "source": [
    "#\n",
    "# Set values for series-length and sample-size variables.  We cannot have a\n",
    "# series lenght that exceeds the sample size.\n",
    "series_len = min(len(resid_samps), series_len) # Number of coefficients\n",
    "samp_size = len(resid_samps) # Number of observations\n",
    "#\n",
    "# Declare symbolic variables.\n",
    "𝜉, 𝜂, 𝜁, 𝓎 = symbols('𝜉, 𝜂, 𝜁, 𝓎')\n",
    "𝜈 = symbols('𝜈', cls = Idx)\n",
    "#\n",
    "# Construct a row symbolic row vector of terms for a simgle sample.\n",
    "# This row vector contains elements from which we construct the data\n",
    "# matrix to which we fit the distribution seris. These terms correspond to\n",
    "# the convention of (4) in [Keelin2016].\n",
    "𝓎 = Matrix([𝜉*𝜁\n",
    "             for (𝜉, 𝜁) in list(it.product([(𝜂-Rational(1,2))**𝜈 for 𝜈 in range(int(ceiling(series_len/2)))],\n",
    "                                                  [1, ln(𝜂/(1-𝜂))]))])\n",
    "𝓎.row_swap(2,3)\n",
    "if 𝓎.shape[0] > samp_size:\n",
    "    𝓎.row_del(samp_size)\n",
    "#\n",
    "# Define an `implemented_function` in order to build the rows of the\n",
    "# model matrix. This substitutes the empirical cumulative distribution \n",
    "# (ECDF) values for the row-vector elements. The pattern is described in\n",
    "# SymPy documentation https://t.ly/15sg. \n",
    "f = implemented_function('f', lambda 𝜉 : np.array(𝓎.subs(𝜂, 𝜉))\n",
    "                                           .astype(np.float64))\n",
    "𝜆_𝓎 = lambdify(𝜉, f(𝜉))\n",
    "#\n",
    "# Construct an ECDF for our residual sample set. Sort the sample set\n",
    "# while constructing.\n",
    "resid_samps = np.sort(resid_samps)\n",
    "𝒫 = ECDF(resid_samps)(resid_samps)\n",
    "#\n",
    "# Use the statsmodels.regression.linear_model.OLS function to solve for\n",
    "# the model coefficients https://t.ly/QgMv to estimate the coefficients.\n",
    "# We drop the final sample, for which the ECDF value is unity. This provides\n",
    "# problems for the logarithmic terms in the metalog terms.\n",
    "metalog_ols = sm.OLS(endog = resid_samps[:-1],\n",
    "                     exog = np.matrix.transpose(np.hstack([𝜆_𝓎(𝑦) for 𝑦 in 𝒫[:-1]])),\n",
    "                     hasconst = True).fit()"
   ]
  },
  {
   "cell_type": "code",
   "execution_count": 35,
   "metadata": {},
   "outputs": [
    {
     "data": {
      "text/plain": [
       "0.9915801951759787"
      ]
     },
     "execution_count": 35,
     "metadata": {},
     "output_type": "execute_result"
    }
   ],
   "source": [
    "metalog_ols.rsquared"
   ]
  },
  {
   "cell_type": "code",
   "execution_count": null,
   "metadata": {},
   "outputs": [],
   "source": []
  },
  {
   "cell_type": "code",
   "execution_count": null,
   "metadata": {},
   "outputs": [],
   "source": []
  },
  {
   "cell_type": "code",
   "execution_count": null,
   "metadata": {},
   "outputs": [],
   "source": []
  },
  {
   "cell_type": "code",
   "execution_count": null,
   "metadata": {},
   "outputs": [],
   "source": []
  },
  {
   "cell_type": "code",
   "execution_count": 10,
   "metadata": {},
   "outputs": [
    {
     "data": {
      "text/plain": [
       "array([ -1056.24997834,   9098.55218418,  -5945.98450303, -17830.15551391,\n",
       "        27504.7179416 ])"
      ]
     },
     "execution_count": 10,
     "metadata": {},
     "output_type": "execute_result"
    }
   ],
   "source": [
    "np.linalg.lstsq(a = np.matrix.transpose(np.hstack([𝜆_𝓎(𝑦) for 𝑦 in 𝒫[:-1]])),\n",
    "                            b = resid_samps[:-1],\n",
    "                            rcond = -1)[0]"
   ]
  },
  {
   "cell_type": "code",
   "execution_count": 11,
   "metadata": {},
   "outputs": [
    {
     "data": {
      "text/plain": [
       "array([ -1056.24997834,   9098.55218418,  -5945.98450303, -17830.15551391,\n",
       "        27504.7179416 ])"
      ]
     },
     "execution_count": 11,
     "metadata": {},
     "output_type": "execute_result"
    }
   ],
   "source": [
    "metalog_ols = sm.OLS(endog = resid_samps[:-1],\n",
    "                     exog = np.matrix.transpose(np.hstack([𝜆_𝓎(𝑦) for 𝑦 in 𝒫[:-1]])),\n",
    "                     hasconst = True).fit()\n",
    "metalog_ols.params"
   ]
  },
  {
   "cell_type": "code",
   "execution_count": 12,
   "metadata": {},
   "outputs": [
    {
     "data": {
      "text/html": [
       "<table class=\"simpletable\">\n",
       "<caption>OLS Regression Results</caption>\n",
       "<tr>\n",
       "  <th>Dep. Variable:</th>            <td>y</td>        <th>  R-squared:         </th> <td>   0.993</td> \n",
       "</tr>\n",
       "<tr>\n",
       "  <th>Model:</th>                   <td>OLS</td>       <th>  Adj. R-squared:    </th> <td>   0.993</td> \n",
       "</tr>\n",
       "<tr>\n",
       "  <th>Method:</th>             <td>Least Squares</td>  <th>  F-statistic:       </th> <td>   4089.</td> \n",
       "</tr>\n",
       "<tr>\n",
       "  <th>Date:</th>             <td>Fri, 19 Mar 2021</td> <th>  Prob (F-statistic):</th> <td>1.74e-119</td>\n",
       "</tr>\n",
       "<tr>\n",
       "  <th>Time:</th>                 <td>22:57:28</td>     <th>  Log-Likelihood:    </th> <td> -952.37</td> \n",
       "</tr>\n",
       "<tr>\n",
       "  <th>No. Observations:</th>      <td>   116</td>      <th>  AIC:               </th> <td>   1915.</td> \n",
       "</tr>\n",
       "<tr>\n",
       "  <th>Df Residuals:</th>          <td>   111</td>      <th>  BIC:               </th> <td>   1929.</td> \n",
       "</tr>\n",
       "<tr>\n",
       "  <th>Df Model:</th>              <td>     4</td>      <th>                     </th>     <td> </td>    \n",
       "</tr>\n",
       "<tr>\n",
       "  <th>Covariance Type:</th>      <td>nonrobust</td>    <th>                     </th>     <td> </td>    \n",
       "</tr>\n",
       "</table>\n",
       "<table class=\"simpletable\">\n",
       "<tr>\n",
       "    <td></td>       <th>coef</th>     <th>std err</th>      <th>t</th>      <th>P>|t|</th>  <th>[0.025</th>    <th>0.975]</th>  \n",
       "</tr>\n",
       "<tr>\n",
       "  <th>const</th> <td>-1056.2500</td> <td>  139.864</td> <td>   -7.552</td> <td> 0.000</td> <td>-1333.400</td> <td> -779.100</td>\n",
       "</tr>\n",
       "<tr>\n",
       "  <th>x1</th>    <td> 9098.5522</td> <td>  203.811</td> <td>   44.642</td> <td> 0.000</td> <td> 8694.688</td> <td> 9502.417</td>\n",
       "</tr>\n",
       "<tr>\n",
       "  <th>x2</th>    <td>-5945.9845</td> <td>  567.275</td> <td>  -10.482</td> <td> 0.000</td> <td>-7070.079</td> <td>-4821.890</td>\n",
       "</tr>\n",
       "<tr>\n",
       "  <th>x3</th>    <td>-1.783e+04</td> <td> 1220.514</td> <td>  -14.609</td> <td> 0.000</td> <td>-2.02e+04</td> <td>-1.54e+04</td>\n",
       "</tr>\n",
       "<tr>\n",
       "  <th>x4</th>    <td>  2.75e+04</td> <td> 4181.315</td> <td>    6.578</td> <td> 0.000</td> <td> 1.92e+04</td> <td> 3.58e+04</td>\n",
       "</tr>\n",
       "</table>\n",
       "<table class=\"simpletable\">\n",
       "<tr>\n",
       "  <th>Omnibus:</th>       <td>25.500</td> <th>  Durbin-Watson:     </th> <td>   1.247</td>\n",
       "</tr>\n",
       "<tr>\n",
       "  <th>Prob(Omnibus):</th> <td> 0.000</td> <th>  Jarque-Bera (JB):  </th> <td> 174.069</td>\n",
       "</tr>\n",
       "<tr>\n",
       "  <th>Skew:</th>          <td>-0.314</td> <th>  Prob(JB):          </th> <td>1.59e-38</td>\n",
       "</tr>\n",
       "<tr>\n",
       "  <th>Kurtosis:</th>      <td> 8.968</td> <th>  Cond. No.          </th> <td>    86.7</td>\n",
       "</tr>\n",
       "</table><br/><br/>Notes:<br/>[1] Standard Errors assume that the covariance matrix of the errors is correctly specified."
      ],
      "text/plain": [
       "<class 'statsmodels.iolib.summary.Summary'>\n",
       "\"\"\"\n",
       "                            OLS Regression Results                            \n",
       "==============================================================================\n",
       "Dep. Variable:                      y   R-squared:                       0.993\n",
       "Model:                            OLS   Adj. R-squared:                  0.993\n",
       "Method:                 Least Squares   F-statistic:                     4089.\n",
       "Date:                Fri, 19 Mar 2021   Prob (F-statistic):          1.74e-119\n",
       "Time:                        22:57:28   Log-Likelihood:                -952.37\n",
       "No. Observations:                 116   AIC:                             1915.\n",
       "Df Residuals:                     111   BIC:                             1929.\n",
       "Df Model:                           4                                         \n",
       "Covariance Type:            nonrobust                                         \n",
       "==============================================================================\n",
       "                 coef    std err          t      P>|t|      [0.025      0.975]\n",
       "------------------------------------------------------------------------------\n",
       "const      -1056.2500    139.864     -7.552      0.000   -1333.400    -779.100\n",
       "x1          9098.5522    203.811     44.642      0.000    8694.688    9502.417\n",
       "x2         -5945.9845    567.275    -10.482      0.000   -7070.079   -4821.890\n",
       "x3         -1.783e+04   1220.514    -14.609      0.000   -2.02e+04   -1.54e+04\n",
       "x4           2.75e+04   4181.315      6.578      0.000    1.92e+04    3.58e+04\n",
       "==============================================================================\n",
       "Omnibus:                       25.500   Durbin-Watson:                   1.247\n",
       "Prob(Omnibus):                  0.000   Jarque-Bera (JB):              174.069\n",
       "Skew:                          -0.314   Prob(JB):                     1.59e-38\n",
       "Kurtosis:                       8.968   Cond. No.                         86.7\n",
       "==============================================================================\n",
       "\n",
       "Notes:\n",
       "[1] Standard Errors assume that the covariance matrix of the errors is correctly specified.\n",
       "\"\"\""
      ]
     },
     "execution_count": 12,
     "metadata": {},
     "output_type": "execute_result"
    }
   ],
   "source": [
    "metalog_ols.summary()"
   ]
  },
  {
   "cell_type": "code",
   "execution_count": null,
   "metadata": {},
   "outputs": [],
   "source": []
  },
  {
   "cell_type": "code",
   "execution_count": 12,
   "metadata": {},
   "outputs": [],
   "source": [
    "# a = IndexedBase('a')\n",
    "# 𝜈, 𝘺, 𝛮, 𝗔, 𝘆 = symbols('𝜈, 𝘺, 𝛮, 𝗔, 𝘆')\n",
    "# 𝜈 = symbols('𝜈', cls = Idx)\n",
    "# 𝛮 = len(𝒫[0])\n",
    "def metalog_quantile_series(n):\n",
    "    a = IndexedBase('a')\n",
    "    𝜈, 𝘺, 𝛮, 𝗔, 𝝜= symbols('𝜈, 𝘺, 𝛮, 𝗔, 𝝜')\n",
    "    𝜈 = symbols('𝜈', cls = Idx)\n",
    "    𝛮 = n\n",
    "    𝗔 = np.transpose(np.vstack([np.asarray([a[2*𝜈] for 𝜈 in range(int(ceiling(𝛮)) )]),\n",
    "                                np.asarray([a[2*𝜈+1] for 𝜈 in range(int(ceiling(𝛮)) )])] ))\n",
    "    𝗔 = np.vstack([𝗔[0,:],\n",
    "                    np.flip(m = 𝗔[1,:],\n",
    "                            axis = 0),\n",
    "                    𝗔[2:,:]])\n",
    "\n",
    "    𝝜 = ((Matrix([Pow(𝘺-Rational(1,2), 𝜈) \n",
    "                   for 𝜈 in range(int(ceiling(𝛮)))]).T)*𝗔*Matrix([[1],\n",
    "                                                                   [ln(𝘺/(1-𝘺))]]))\\\n",
    "            .subs([(a[𝜈],0) for 𝜈 in range(𝛮,2*𝛮+1)])\n",
    "    return 𝝜[0,0]\n",
    "#\n",
    "#\n",
    "# y = IndexedBase('y')\n",
    "# 𝗫, 𝗬, 𝜇, 𝜈, 𝘔, 𝘕, 𝜉, 𝜁, 𝜂 = symbols('𝗫, 𝗬, 𝜇, 𝜈, 𝘔, 𝘕, 𝜉, 𝜁, 𝜂')\n",
    "# 𝜇 = symbols('𝜇', cls = Idx)\n",
    "# 𝜈 = symbols('𝜈', cls = Idx)\n",
    "# 𝘔 = len(𝒫[0]) # Number of coefficients\n",
    "# 𝘕 = len(𝒫[0]) # Number of observations\n",
    "#\n",
    "# We perform linear solution of the quantile-distribution coefficients in accordance\n",
    "# with [Keelin2016] as described above. Our arguments are;\n",
    "# ⧐ 𝘔 is the desired number of coefficients; and\n",
    "# ⧐ 𝒫 is the empirical cumulative distribution. \n",
    "# We return a symbolic matrix 𝗮 containing the coefficients. \n",
    "def metalog_quantile_coeffs(𝘔, 𝒫):\n",
    "    𝘔 = min(len(𝒫[0]), 𝘔) # Number of coefficients\n",
    "    𝘕 = len(𝒫[0]) # Number of observations\n",
    "    𝜉, 𝜂, 𝜁, 𝓎 = symbols('𝜉, 𝜂, 𝜁, 𝓎')\n",
    "    𝜈 = symbols('𝜈', cls = Idx)\n",
    "    𝓎 = Matrix([𝜉*𝜁\n",
    "                 for (𝜉, 𝜁) in list(it.product([(𝜂-Rational(1,2))**𝜈 for 𝜈 in range(int(ceiling(𝘔/2)))],\n",
    "                                                      [1, ln(𝜂/(1-𝜂))]))])\n",
    "    𝓎.row_swap(2,3)\n",
    "    if 𝓎.shape[0] > 𝘔:\n",
    "        𝓎.row_del(𝘔)\n",
    "\n",
    "    f = implemented_function('f', lambda 𝜉 : np.array(𝓎.subs(𝜂, 𝜉))\\\n",
    "                                               .astype(np.float64))\n",
    "    𝜆_𝓎 = lambdify(𝜉, f(𝜉))\n",
    "    return np.linalg.lstsq(a = np.matrix.transpose(np.hstack([𝜆_𝓎(𝑦) for 𝑦 in 𝒫[0]])),\n",
    "                            b = 𝒫[1],\n",
    "                            rcond = -1)[0]\n",
    "#\n",
    "# We perform linear solution of the quantile-distribution coefficients in accordance\n",
    "# with [Keelin2016] as described above. Our arguments are;\n",
    "# ⧐ 𝘔 is the desired number of coefficients; and\n",
    "# ⧐ 𝒫 is the empirical cumulative distribution. \n",
    "# We return a symbolic matrix 𝗮 containing the coefficients. \n",
    "def metalog_quantile_coeffs_lb(𝘔, 𝒫, 𝒷ℓ):\n",
    "    𝘔 = min(len(𝒫[0]), 𝘔) # Number of coefficients\n",
    "    𝘕 = len(𝒫[0]) # Number of observations\n",
    "    y = IndexedBase('y')\n",
    "    𝗬, 𝜇, 𝜈, 𝜉, 𝜁, 𝜂 = symbols('𝗬, 𝜇, 𝜈, 𝜉, 𝜁, 𝜂')\n",
    "    𝜇 = symbols('𝜇', cls = Idx)\n",
    "    𝜈 = symbols('𝜈', cls = Idx)\n",
    "    𝗬 = Matrix([[(𝜉*𝜁).subs(𝜂, y[𝜇])\n",
    "                   for (𝜉, 𝜁) in list(it.product([(𝜂-Rational(1,2))**𝜈 for 𝜈 in range(int(ceiling(𝘔/2)))],\n",
    "                                                [1, ln(𝜂/(1-𝜂))]))]\n",
    "                for 𝜇 in range(𝘕)])\n",
    "    𝗬.col_swap(2,3)\n",
    "    if 𝗬.shape[1] > 𝘔:\n",
    "         𝗬.col_del(𝘔)\n",
    "    return np.linalg.lstsq(a = np.array(𝗬.subs(list(zip([y[𝜇] for 𝜇 in range(𝘕)],\n",
    "                                                            𝒫[0])))).astype(dtype = 'float64'),\n",
    "                            b = np.log(𝒫[1]-𝒷ℓ),\n",
    "                            rcond = -1)[0]\n",
    "#\n",
    "# Here we construct two functions, r=M_𝗮(𝘺) and dr/dy = m_𝗮(𝘺). These compile the quantile (aka\n",
    "# percentile-point) function and its derivative for computational purposes.  We get the probability-\n",
    "# density function pᵣ(r) ∼ (dr/d𝘺)⁻¹. Each function takes the same two arguments\n",
    "# ⧐ 𝛂 is a coefficient vector resulting from a metalog_quantile_fit; and\n",
    "# ⧐ 𝜂 is an array of quantile points to which the function is mapped.\n",
    "# In each case, the following logical steps occur.\n",
    "# ⓐ Invoke metalog_quantile_series to get a metalog series whose coefficients\n",
    "#    correspond to the length of 𝛂.  \n",
    "# ⓑ In the case of m_𝗮(𝘺), symbolically otbain the first derivative with respect to 𝘺.\n",
    "# ⓒ Substitute the values of 𝛂 for the symbolically-represented coefficients above.\n",
    "# ⓓ Apply lambdify to compile the symbolic function to the result of ⓒ for purposes\n",
    "#    of calculation.\n",
    "# ⓔ Employ python's map function to calculate the function value for each point in 𝜂.\n",
    "# Each function returns a numpy array.\n",
    "def m_𝗮(𝛂, 𝜂):\n",
    "    𝘺, 𝛯 = symbols('𝘺, 𝛯')\n",
    "    a = IndexedBase('a')\n",
    "    𝛯 = metalog_quantile_series(len(𝛂)).subs({a[key]: val\n",
    "                                        for (key, val) in dict(enumerate(𝛂)).items()})\n",
    "    return np.array(list(map(lambdify(𝘺, 1/diff(𝛯, 𝘺)), 𝜂)))\n",
    "def M_𝗮(𝛂, 𝜂):\n",
    "    𝘺, 𝛯 = symbols('𝘺, 𝛯')\n",
    "    a = IndexedBase('a')\n",
    "    𝛯 = metalog_quantile_series(len(𝛂)).subs({a[key]: val\n",
    "                                        for (key, val) in dict(enumerate(𝛂)).items()})\n",
    "    return np.array(list(map(lambdify(𝘺, 𝛯), 𝜂)))\n",
    "def m_𝗮_lb(𝛂, 𝒷ℓ, 𝜂):\n",
    "    𝘺, 𝛯 = symbols('𝘺, 𝛯')\n",
    "    a = IndexedBase('a')\n",
    "    𝛯 = exp(metalog_quantile_series(len(𝛂)).subs({a[key]: val\n",
    "                                                    for (key, val) in dict(enumerate(𝛂)).items()})) + 𝒷ℓ\n",
    "    return np.array(list(map(lambdify(𝘺, 1/diff(𝛯, 𝘺)), 𝜂)))\n",
    "def M_𝗮_lb(𝛂, 𝒷ℓ, 𝜂):\n",
    "    𝘺, 𝛯 = symbols('𝘺, 𝛯')\n",
    "    a = IndexedBase('a')\n",
    "    𝛯 = exp(metalog_quantile_series(len(𝛂)).subs({a[key]: val\n",
    "                                                    for (key, val) in dict(enumerate(𝛂)).items()})) + 𝒷ℓ\n",
    "    return np.array(list(map(lambdify(𝘺, 𝛯), 𝜂)))\n",
    "\n",
    "#\n",
    "# We construct here a function that constructs the gradient of the 𝕃²-Norm\n",
    "# of a vector. We use this to impose a structural regularization in constrained-\n",
    "# optimization problems. We take as our input a dictionary whose keys are \n",
    "# vector-element labels and whose values are the vector-element values. We \n",
    "# symbolically construct the norm itself and create a gradient vector. We then\n",
    "# substitute the values in and return the result. Specifically, we return a dictionary\n",
    "# for which the items are:\n",
    "# ⧐ '∇_𝗮' is the gradient vector itself; and\n",
    "# ⧐ 'Z_𝗮' is its nullspace.\n",
    "def vec_norm_grad(𝗮):\n",
    "    # Define our vector.\n",
    "    vec = Matrix([𝜃 for 𝜃 in 𝗮.keys()])\n",
    "    #\n",
    "    # Construct the vector norm.\n",
    "    norm = sqrt(vec.dot(vec.transpose()))\n",
    "    #\n",
    "    # Substitute in the values and return the result.\n",
    "    grad_𝗮 = np.array(Matrix([diff(norm, 𝜃) for 𝜃 in 𝗮.keys()]).subs(𝗮)).astype('float64')\n",
    "    null_𝗮 = np.subtract(np.identity(len(grad_𝗮)),\n",
    "                        np.dot(a = grad_𝗮,\n",
    "                               b = np.transpose(grad_𝗮)))\n",
    "    u, s, vh = np.linalg.svd(null_𝗮)\n",
    "    return {'∇_𝗮' : grad_𝗮,\n",
    "            'Z_𝗮' : u[:,list(range(np.linalg.matrix_rank(null_𝗮)))]}\n",
    "\n",
    "\n",
    "#\n",
    "# Ⓒ Define a function 𝜙(𝗮) that calculates (10).  Our arguments are \n",
    "#    ⪧ A coefficient vector 𝛂; and\n",
    "#    ⪧ 𝜂 a set of integrand samples.\n",
    "#    Our function invokes m_𝗮_lb in order to get a set of functional values \n",
    "#    on 𝜂. It then performs a trapezoidal approximation of the integration.\n",
    "def 𝜙_𝗮(𝛂, 𝜂):\n",
    "    𝓘 = np.log(m_𝗮_lb(𝛂 = 𝛂, \n",
    "                      𝒷ℓ = 0,\n",
    "                      𝜂 = 𝜂))\n",
    "    return np.trapz(y = 𝓘,\n",
    "                    x = 𝜂)\n",
    "\n"
   ]
  },
  {
   "cell_type": "markdown",
   "metadata": {},
   "source": [
    "<font color = '#1a2f5f'>\n",
    "\n",
    "# Fitting Metalog Distributions Using Kullback-Liebler Distance\n",
    "\n",
    "</font>"
   ]
  },
  {
   "cell_type": "markdown",
   "metadata": {},
   "source": [
    "We demonstrate here the fitting of one metalog to another by minimization of the Kullback-Liebler \"distance\"  [[Cover2006, (2.26)]](https://www.amazon.com/Elements-Information-Theory-Thomas-Cover-ebook/dp/B00HLG9ISQ) between the two distributions.  Our distributions are specified in terms of Metalog functions [[Keelin2016]](https://pubsonline.informs.org/doi/abs/10.1287/deca.2016.0338) $$   \\begin{align} M_\\mathscr{X}(y;\\,\\boldsymbol{\\mathrm{a}}) &= \\displaystyle \\sum_{\\nu = 1}^{\\frac{n}{2}} \\Bigg( a_{2\\nu -1} \\, \\Big( y-\\frac{1}{2}\\Big)^{(2\\nu - 1)}  \\\\ &\\qquad\\quad+ a_{2 \\nu}\\,\\Big(y-\\frac{1}{2}\\Big)^{(2 \\nu -1)}\\, \\ln\\Big(\\frac{y}{1-y} \\Big) \\Bigg) \\\\ &\\qquad\\qquad\\qquad\\qquad\\qquad\\forall \\; y \\in\\big(0,\\,1\\big) \\end{align} \\text{,}  \\qquad \\text{(1a)}   $$ where $$\\begin{split} \\mathscr{x}=M_\\mathscr{X}(\\mathscr{y})\\iff y=\\mathcal{Pr}\\big(\\mathscr{X}\\leq\\mathscr{x}\\big) = P_\\mathscr{X}(\\mathscr{x}) \\\\  \\forall \\quad \\mathscr{x} \\in \\mathbb{R} \\; \\land \\; \\mathscr{y} \\in [0,1]\\text{.} \\end{split} \\qquad \\text{(1b)} $$ In (1), $M_\\mathscr{X}(y;\\,\\boldsymbol{\\mathrm{a}})$ is often referred to as a  *percentile-point function* (PPF) (e.g., [[scipy.stats.laplace]](https://docs.scipy.org/doc/scipy/reference/generated/scipy.stats.laplace.html#scipy.stats.laplace) ). Respresented by a vector $\\boldsymbol{\\mathrm{a}}$ of coefficients, $M_\\mathscr{X}(y;\\,\\boldsymbol{\\mathrm{a}})$ results from a fit to an *emprical cumulative-distrubution function* (ECDF). We alternatively think of (1b) as a functional mapping $$M_\\mathscr{X} : [0,1] \\mapsto \\mathbb{R} \\text{.} \\qquad \\qquad \\text{(1c)}  $$\n",
    "\n",
    "We have two distributions, $p_\\mathscr{X}(x)$ and $\\hat{p}_\\mathscr{X}(x;\\,\\boldsymbol{\\mathrm{a}})$, the latter of which is derived from a matalog-fit (1) PPF. We seek the coefficient vector $\\boldsymbol{\\mathrm{a}}$ producing $\\hat{p}_\\mathscr{X}(x;\\,\\boldsymbol{\\mathrm{a}})$ that most-closely coincides with $p_\\mathscr{X}(x)$. For convenience we adopt the notation $$\\phi(\\boldsymbol{\\mathrm{a}}) = \\int_{x \\in \\mathbb{R}}p_\\mathscr{X}(x)\\, \\ln\\bigg(\\tfrac{p_\\mathscr{X}(x)}{\\hat{p}_{\\mathscr{X}}(x;\\,\\boldsymbol{\\mathrm{a}})} \\bigg)\\: dx \\qquad \\text{(2)} $$ to denote our KL distance. We seek an optimum coefficient vector $\\boldsymbol{\\mathrm{a}}^*$ that optimizes $$\\boldsymbol{\\mathrm{a}}^* = \\arg \\max_{\\boldsymbol{\\mathrm{a}}} \\phi(\\boldsymbol{\\mathrm{a}}) \\; \\ni \\; \\| \\boldsymbol{\\mathrm{a}} \\| \\le \\| \\boldsymbol{\\mathrm{a}}_0 \\| \\text{.}\\qquad\\text{(3)}$$ The constraint represents a structural regularization. It serves the same purpose as the constraints in Lasso- and Ridge-regression methods [[Hastie2006, §3.4]](https://www.springer.com/gp/book/9780387848570). Its presence prevents certain trivial or degenerate conditions. "
   ]
  },
  {
   "cell_type": "markdown",
   "metadata": {},
   "source": [
    "<font color = '#0051ba'>\n",
    "    \n",
    "### Deriving the KL \"distance\" from metalog PPF functions. \n",
    "</font>\n",
    "\n",
    "Now, our probability-space structure is specified in terms of PPFs (1). Our objective function however appears in the form of the more-familiar probability-density functions (2).  We must effect changes to our variables of integration to reconcile this disparity.\n",
    "\n",
    "<font color = '#003459'>\n",
    "    \n",
    "#### Transforming $\\phi(\\boldsymbol{\\mathrm{a}})$ into an integral in terms of $y$. \n",
    "</font>\n",
    "\n",
    "The relationships in (1b) provide us oiur bridge. From basic differential calculus we have$$\\begin{gather} p_\\mathscr{X}(x)=\\tfrac{dy}{dx}=\\tfrac{d\\,P_\\mathscr{X}(x)}{dx}\\text{,} \\qquad \\text{(3a)} \\\\ \\tfrac{dx}{dy}=\\tfrac{d\\,M_\\mathscr{X}(y)}{dy} = m_\\mathscr{X}(y) \\text{,} \\qquad \\text{(3b)} \\\\ \\text{and}\\\\ \\tfrac{dy}{dx}=\\tfrac{1}{dx/dy}\\text{.} \\qquad \\text{(3c)}\\end{gather} $$ We use these to change (2) from an integral in terms of $p_\\mathscr{x}(x)$ and $x$ to one interms of the corresponding $m_\\mathscr{X}(y)$ and $y$.  First, (3a) gives us $$m_\\mathscr{X}(y)\\,dy = dx \\text{.} \\qquad \\qquad \\text{(4a)}$$ Also, applying concepts from basic differential calculus, (3b) and (3c) give us $$p_\\mathscr{X}(x) = \\tfrac{1}{m_\\mathscr{X}(y)}\\text{.} \\qquad \\qquad \\text{(b)} $$  By substitution, our objective function (2) now becomes $$\\phi(\\boldsymbol{\\mathrm{a}}) = \\int_0^1 \\ln \\bigg(\\tfrac{\\hat{m}_\\mathscr{X}(y;\\,\\boldsymbol{\\mathrm{a}})}{m_\\mathscr{X}(y)} \\bigg) dy \\text{.} \\qquad \\qquad \\text{(5)} $$  The relative simplicity of (5) with respect to (2) is surprising, but convenient.\n",
    "\n",
    "<font color = '#003459'>\n",
    "    \n",
    "#### A simple illustration:  The KL distance between a Normal and Rayleigh distribution. \n",
    "</font>\n",
    "\n",
    "Consider two classical distributions from the exponential family.  The KL \"distance\" of a Rayleigh distribution with respect to a Normal distribution. If in terms of (2) we selct $$p_\\mathscr{X}(x) = \\tfrac{1}{\\sqrt{2 \\pi}}\\mathrm{e}^{-\\tfrac{x^2}{2}} $$ and $$\\hat{p}_\\mathscr{X}(x;\\,\\boldsymbol{\\mathrm{a}}) = x\\,\\mathrm{e}^{-\\tfrac{x^2}{2}}\\mathbb{u}(x)\\text{,} $$ where the unit-step function $$\\mathbb{u}(x) = \\begin{cases}1 \\quad &\\forall \\; x \\ge 0 \\\\ 0 \\quad &\\forall \\; x \\lt 0 \\end{cases} \\text{.}$$ Substituting these density functions into (2) produces for this stylized example a closed-form result, $$\\begin{aligned}\\phi(\\boldsymbol{\\mathrm{a}}) &= \\int_{-\\infty}^\\infty \\tfrac{1}{\\sqrt{2 \\pi}}\\mathrm{e}^{-\\tfrac{x^2}{2}} \\ln \\bigg(\\tfrac{1}{\\sqrt{2 \\pi}}\\mathrm{e}^{-\\tfrac{x^2}{2}} \\bigg)\\: dx \\\\ &\\qquad -\\int_0^\\infty  \\tfrac{1}{\\sqrt{2 \\pi}}\\mathrm{e}^{-\\tfrac{x^2}{2}} \\ln \\bigg(x\\,\\mathrm{e}^{-\\tfrac{x^2}{2}}  \\bigg)\\: dx \\\\ &= \\tfrac{1}{4} \\ln \\big(\\tfrac{ \\mathrm{e}^{\\gamma -1}}{2 \\pi^2}  \\big) \\\\ &\\approx -0.85135 \\end{aligned}{\\text{,}} \\qquad \\text (6)$$ where $\\gamma \\approx 0.577216$ is Euler's constant.  Wolfram Mathematica produces the result above. \n",
    "\n",
    "We now corroborate this result using Metalog fits to ECDFs for the distributions identified above. We calculate $\\phi(\\boldsymbol{\\mathrm{a}})$ using (5). Following the approach in [[Keelin2016, §§3.1, 4.1]](https://pubsonline.informs.org/doi/abs/10.1287/deca.2016.0338), we get  $$\\begin{multline} M_\\mathscr{X}(𝘺) =  0.00026 𝘺 \\log{\\left(- \\frac{𝘺}{𝘺 - 1} \\right)} + 0.813849 𝘺 + 0.432775 \\log{\\left(- \\frac{𝘺}{𝘺 - 1} \\right)} - 0.4070265 \\end{multline} \\qquad \\text{(6a)}$$ as the PPF for the normal distribution and $$ \\hat{M}_\\mathscr{X}(y;\\,\\boldsymbol{\\mathrm{a}}) = 1.07491060501907 \\left(- \\frac{𝘺}{𝘺 - 1}\\right)^{0.4257305} e^{𝘺 \\left(0.207063 - 0.224511 \\log{\\left(- \\frac{𝘺}{𝘺 - 1} \\right)}\\right)}\\qquad \\text{(6b)}$$ for the Rayleigh.\n",
    "\n",
    "We take this one at a time. Equation (2) can be decomposed as $$\\begin{aligned}\\phi(\\boldsymbol{\\mathrm{a}}) &= \\int_{x \\in \\mathbb{R}}p_\\mathscr{X}(x)\\, \\ln\\big(p_\\mathscr{X}(x) \\big)\\: dx \\\\ &\\qquad - \\int_{x \\in \\mathbb{R}}p_\\mathscr{X}(x)\\, \\ln\\big(\\hat{p}_{\\mathscr{X}}(x;\\,\\boldsymbol{\\mathrm{a}}) \\big)\\: dx \\\\ &= H(X) -  \\mathcal{E}\\Big\\{\\ln \\big(\\hat{p}_\\mathscr{X}(x) \\big) \\Big\\} \\end{aligned}\\text{.}\\qquad \\qquad \\text{(8)}$$  Now, the first term in (8) is simply the negative entropy  [[Cover2006, (2.1)]](https://www.amazon.com/Elements-Information-Theory-Thomas-Cover-ebook/dp/B00HLG9ISQ) of the unit-variance Gaussian, $$H(X) = - \\int_{x \\in \\mathscr{X}} p_\\mathscr{x}(x)\\, \\ln \\big( p_\\mathscr{x}(x) \\big) \\: dx \\text{.}\\qquad \\qquad \\text{(9a)}$$ In terms of $m_\\mathscr{X}(y)$ equivalently obtain $$H(X) = \\int_{y \\in [0,1]}  \\ln \\big( m_\\mathscr{x}(y) \\big) \\: dy \\text{.}\\qquad \\qquad \\text{(9b)} $$  \n",
    "\n",
    "Numerical integration over by the trapezoidal method [[Andre2003, §12.1]](https://amzn.to/32hobOB) with 10,000 samples produces $H(X) \\approx  1.4274$. The corresponding exact calculation in (6) appears as $H(x) = \\ln \\big( \\sqrt{2\\,\\pi\\,\\mathrm{e}} \\big) \\approx 1.4189$. The difference can be explained by the use of only four coefficients to approximate $M_\\mathscr{X}(y)$ in (6a). If we increase the number of coefficients to ten, our approximation improves to $H(X) \\approx  1.4186$.\n",
    "\n",
    "Calculation of the second term is more-complicated, given that the *spans* of $M_\\mathscr{X}$ and $\\hat{M}_\\mathscr{X}$ do not coincide. Basic set theory [e.g., [Suppes1972](https://www.amazon.com/Axiomatic-Theory-Dover-Books-Mathematics/dp/0486616304), [Jech1978](https://www.amazon.com/Theory-Pure-Applied-Mathematics-Book-ebook/dp/B01253U2UC)] gives us the tools by which to think this through rigorously. We use *span* here in a sense closely resembling *relation* in \n",
    "[[Suppes1972, §3.1]](https://www.amazon.com/Axiomatic-Theory-Dover-Books-Mathematics/dp/0486616304). \n",
    "\n",
    "Given the domain $\\mathscr{D}M_\\mathscr{X}$ and range $\\mathscr{R}M_\\mathscr{X}$ of $M_\\mathscr{X}$,  we define the span $$\\begin{aligned} \\mathscr{S}M_\\mathscr{X} &\\overset{\\Delta}{=} \\mathscr{D}M_\\mathscr{X} \\times \\mathscr{R}M_\\mathscr{X} \\\\ &= [0,1] \\times \\mathbb{R} \\\\ &= \\big\\{(y,x)\\: : \\: y \\in [0,1] \\land x \\in \\mathbb{R} \\big\\} \\end{aligned}\\text{,}$$ for the case of the Normal distribution. We have for every tuple $(y,x)$ in $\\mathscr{S}M_\\mathscr{X}$ a functional value $x=M_\\mathscr{x}(y)$. The span ignores what that value is. It simply specifies all such tuples for which the function is defined. Also note that $$\\begin{aligned} \\mathscr{S}P_\\mathscr{X} &= \\mathscr{D}P_\\mathscr{X} \\times \\mathscr{R}P_\\mathscr{X} \\\\ &= \\mathbb{R} \\times [0,1] \\\\ &= \\mathscr{R}M_\\mathscr{X} \\times \\mathscr{D}M_\\mathscr{X}\\end{aligned}\\text{.}$$\n",
    "\n",
    "Now, the span $\\mathscr{S}M_\\mathscr{X}$ for the Gaussian component is as above. Alternatively, the span for the Rayleigh component is $$\\mathscr{S}\\hat{M}_\\mathscr{X} = [0,1] \\times \\mathbb{R}^+ \\text{.}$$ The domain of integration for that term must lie within $$\\big(\\mathscr{S}\\hat{M}_\\mathscr{X} \\big)\\cap\\big(\\mathscr{S}M_\\mathscr{X} \\big)  \\overset{\\Delta}{=} \\Big\\{(y,x)\\: : \\: \\big( (y,x)\\in \\mathscr{S}\\hat{M}_\\mathscr{X} \\big) \\land \\big( (y,x)\\in \\mathscr{S}M_\\mathscr{X} \\big) \\Big\\} \\text{.}$$  Because $M_\\mathscr{X}(0.5)=0$, we end up with $$\\big(\\mathscr{S}\\hat{M}_\\mathscr{X} \\big)\\cap\\big(\\mathscr{S}M_\\mathscr{X} \\big)= \\big\\{(y,x)\\: : \\: y \\in [0.5, 1] \\land x \\in \\mathbb{R}^+ \\big\\} $$ for our integration domain. Somewhat more-generally, $$\\begin{multline}\\big(\\mathscr{S}\\hat{M}_\\mathscr{X} \\big)\\cap\\big(\\mathscr{S}M_\\mathscr{X} \\big)= \\bigg\\{(y,x)\\: : \\\\ y \\in \\Big[\\max\\big\\{\\lim_{y\\rightarrow0^+}M(y),\\,\\lim_{y\\rightarrow0^+}\\hat{M}(y;\\,\\boldsymbol{\\mathrm{a}}) \\big\\}, 1\\Big] \\land x \\in \\mathbb{R}^+ \\cap \\mathbb{R} \\bigg\\} \\end{multline}\\text{.}$$ \n",
    "\n",
    "The second term in (8) now becomes $$\\mathcal{E}\\Big\\{\\ln \\big(\\hat{p}_\\mathscr{X}(x) \\big) \\Big\\} = \\int_{y \\in [\\tfrac{1}{2},1]}  \\ln \\big( \\hat{m}_\\mathscr{X}(y;\\,\\boldsymbol{\\mathrm{a}}) \\big) \\: dy \\text{.} \\qquad \\qquad \\text{(10)}$$  Exact evalulation produces $\\mathcal{E}\\Big\\{\\ln \\big(\\hat{p}_\\mathscr{X}(x) \\big) \\Big\\}=\\tfrac{1}{4}\\ln \\big(2 \\mathrm{e}^{\\gamma + 1} \\big) \\approx 0.56759 $.  Trapezoidal-rule evalulation produces $\\mathcal{E}\\Big\\{\\ln \\big(\\hat{p}_\\mathscr{X}(x) \\big) \\Big\\} \\approx 0.57942$ for four coefficients. Increasing the metalog series to 20 coefficients produces $\\mathcal{E}\\Big\\{\\ln \\big(\\hat{p}_\\mathscr{X}(x) \\big) \\Big\\} \\approx 0.56928$. \n",
    "\n",
    "Our analysis going forward uses four coefficients. Such a short series produces symbolic representations that are easily interpreted. The calculations above give us a crude sense of the degree of accuracy.\n"
   ]
  },
  {
   "cell_type": "markdown",
   "metadata": {},
   "source": [
    "<font color = '#003459'>\n",
    "    \n",
    "#### Behavior of objective function  $\\phi(\\boldsymbol{\\mathrm{a}})$ with respect to $\\boldsymbol{\\mathrm{a}}$ in vicnity of $\\boldsymbol{\\mathrm{a}}_0$ . \n",
    "</font>\n",
    "\n",
    "We explore here the behavior of the objective KL-distance objective function $\\phi(\\boldsymbol{\\mathrm{a}})$ with respect to changes in $\\boldsymbol{\\mathrm{a}}$ in the neighborhood of some $\\boldsymbol{\\mathrm{a}}_0$. We will seek an $\\boldsymbol{\\mathrm{a}}$ for $\\hat{M}_\\mathscr{X}(y;\\,\\boldsymbol{\\mathrm{a}})$ that minimizes the distance (5) with respect to a normal distribution $M_\\mathscr{X}(y)$. Our starting point $\\boldsymbol{\\mathrm{a}}_0$ is based on the Rayleigh distribution. Understanding the behavior of $\\phi(\\boldsymbol{\\mathrm{a}})$ in the neighborhood of some $\\boldsymbol{\\mathrm{a}}_0$ informs the our decision about a mathematical-programming approach.\n",
    "\n",
    "We first consider here the behavior of $\\phi(\\boldsymbol{\\mathrm{a}})$ calculated directly. Now, $\\boldsymbol{\\mathrm{a}}_0 \\in \\mathbb{R}^N$ is a vector aligned to a specific dimension in an $N$-dimensional space. We scan in each of these dimensions up to a small perturbation $\\pm \\varepsilon \\|\\boldsymbol{\\mathrm{a}}_0 \\|$ for some $\\varepsilon < 1$. \n",
    "\n",
    "Since we use (5), we we employ a metalog fit to the Normal distribution for $M_\\mathscr{X}$. In the sequel we approximate $\\phi(\\boldsymbol{\\mathrm{a}})$ using Taylor-series expansions so that we can employ linear- and quadratic-programming approaches. Also, considering that studying the behavior of $\\phi(\\boldsymbol{\\mathrm{a}})$ in the vicinity of $\\boldsymbol{\\mathrm{a}}_0$ constitutes our objective, we can focus our attention on (10). The entropy term (9b) is invariant with respect to $\\boldsymbol{\\mathrm{a}}$. "
   ]
  },
  {
   "cell_type": "markdown",
   "metadata": {},
   "source": [
    "<font color = '#003459'>\n",
    "    \n",
    "#### A quadratic approximation of  $\\phi(\\boldsymbol{\\mathrm{a}})$ with respect to $\\boldsymbol{\\mathrm{a}}$ in vicnity of $\\boldsymbol{\\mathrm{a}}_0$ . \n",
    "</font>\n",
    "\n",
    "We require a numeric approach to find the $\\boldsymbol{\\mathrm{a}}^*$ from (3) that minimizes our objective function $\\phi(\\boldsymbol{\\mathrm{a}})$. Applicable methods are well-known [e.g,. [Pierre1969](https://store.doverpublications.com/048665205x.html), [Luenberger2003](https://www.amazon.com/Nonlinear-Programming-International-Operations-Management/dp/1441945040),  [Nocedel2006](https://www.springer.com/gp/book/9780387303031)]. [[Nocedel2006](https://www.springer.com/gp/book/9780387303031)] serves here as our primary guide. \n",
    "\n",
    "We employ a gradient-search method to find $\\boldsymbol{\\mathrm{a}}^*$ in (3). As usual, we begin with a Lagrangian function $$\\mathcal{L}(\\boldsymbol{\\mathrm{a}}, \\lambda) = \\phi(\\boldsymbol{\\mathrm{a}}) - \\big( \\|\\boldsymbol{\\mathrm{a}}\\| - \\|\\boldsymbol{\\mathrm{a}}_0 \\| \\big) \\lambda \\text{.}\\qquad\\qquad\\text{(11)} $$  We use a Taylor-series expansion to render our objective function in a quadratic form, $$\\begin{aligned}\\phi(\\boldsymbol{\\mathrm{a}})\\approx \\phi(\\boldsymbol{\\mathrm{a}}_0) + \\big(\\boldsymbol{\\mathrm{a}}-\\boldsymbol{\\mathrm{a}}_0\\big)^T\\nabla_{\\boldsymbol{\\mathrm{a}}}\\phi(\\boldsymbol{\\mathrm{a}}_0) + \\tfrac{1}{2!}\\big(\\boldsymbol{\\mathrm{a}}-\\boldsymbol{\\mathrm{a}}_0\\big)^T\\boldsymbol{\\mathrm{H}}_{\\phi}(\\boldsymbol{\\mathrm{a}}_0) \\big(\\boldsymbol{\\mathrm{a}}-\\boldsymbol{\\mathrm{a}}_0\\big)\\end{aligned}\\text{,}\\qquad\\qquad\\text{(12a)}$$ where the gradient vector $$ \\nabla_{\\boldsymbol{\\mathrm{a}}}\\phi(\\boldsymbol{\\mathrm{a}}_0) = \\begin{pmatrix} \\tfrac{\\partial \\phi(\\boldsymbol{\\mathrm{a}}_0)}{\\partial a_1} \\\\ \\vdots \\\\ \\tfrac{\\partial \\phi(\\boldsymbol{\\mathrm{a}}_0)}{\\partial a_n}  \\end{pmatrix} \\qquad\\qquad\\text{(12b)}$$ and the Hessian matrix $$\\boldsymbol{\\mathrm{H}}_\\phi = \\begin{pmatrix}\\tfrac{\\partial^2 \\phi(\\boldsymbol{\\mathrm{a}}_0)}{\\partial a_1^2} & \\tfrac{\\partial^2 \\phi(\\boldsymbol{\\mathrm{a}}_0)}{\\partial a_1\\,\\partial a_2} & \\cdots &  \\tfrac{\\partial^2 \\phi(\\boldsymbol{\\mathrm{a}}_0)}{\\partial a_1\\,\\partial a_2} \\\\ \\vdots & \\vdots & \\ddots & \\vdots \\\\ \\tfrac{\\partial^2 \\phi(\\boldsymbol{\\mathrm{a}}_0)}{\\partial a_n\\,\\partial a_1} & \\tfrac{\\partial^2 \\phi(\\boldsymbol{\\mathrm{a}}_0)}{\\partial a_n\\,\\partial a_2} & \\cdots & \\tfrac{\\partial^2 \\phi(\\boldsymbol{\\mathrm{a}}_0)}{\\partial a_n^2} \\end{pmatrix}\\text{.}\\qquad\\qquad\\text{(12c)} $$ We similarly linearize our constraint function $$\\begin{aligned}\\psi(\\boldsymbol{\\mathrm{a}}) &= \\| \\boldsymbol{\\mathrm{a}} \\| \\\\ &\\approx \\big(\\boldsymbol{\\mathrm{a}}-\\boldsymbol{\\mathrm{a}}_0\\big)^T\\nabla_\\boldsymbol{\\mathrm{a}}\\psi(\\boldsymbol{\\mathrm{a}}_0) + \\psi(\\boldsymbol{\\mathrm{a}}_0) \\\\ &=  \\tfrac{(\\boldsymbol{\\mathrm{a}}-\\boldsymbol{\\mathrm{a}}_0 )^T \\, \\boldsymbol{\\mathrm{a}}_0}{\\| \\boldsymbol{\\mathrm{a}}_0 \\|} + \\psi(\\boldsymbol{\\mathrm{a}}_0)   \\end{aligned}\\text{.}\\qquad\\qquad\\text{(13)}$$\n",
    "\n",
    "Now, our objective function represented by (5) is expressed in terms of $\\hat{m}_\\mathscr{x}(x;\\,\\boldsymbol{\\mathrm{a}})$, which is a derivative of the Taylor-like series $\\hat{H}_\\mathscr{x}(x;\\,\\boldsymbol{\\mathrm{a}})$ in (1a). Inconvenient consequences arise in particular for the Hessian matrix (12c). From (10), our Hessian-matrix elements look like $$\\big[\\boldsymbol{\\mathrm{H}}_\\phi \\big]_{\\mu,\\nu} = \\int_{y \\in [\\tfrac{1}{2},1]} \\tfrac{\\partial^2 \\, \\ln \\big(\\partial \\hat{m}_\\mathscr{X}(y;\\,\\boldsymbol{\\mathrm{a}})/ \\partial y \\big) }{\\partial a_\\nu \\, \\partial a_\\mu }\\: dy  \\text{.}\\qquad\\qquad\\text{(14)}$$  That $\\hat{M}_\\mathscr{X}$ is a Taylor-like series in $y$ ensures that $\\boldsymbol{\\mathrm{H}}_\\phi$ is less than full-rank.  Consider, by way of illustration, a length-four series for a lower-bounded PPF [[Keelin2016, (11)]](https://pubsonline.informs.org/doi/abs/10.1287/deca.2016.0338) $$M_\\mathscr{X}(y)=b_\\ell + \\mathrm{e}^{a_1+\\big(a_2 + a_3(y-\\tfrac{1}{2} )\\big)\\ln\\big(\\tfrac{y}{1-y} \\big)+a_4 (y-\\tfrac{1}{2} ) }\\mathbb{u}(y - b_\\ell)\\text{.}$$ We get $$ \\tfrac{\\partial \\ln \\big(\\partial M_\\mathscr{X}(y)/\\partial y  \\big)}{\\partial a_1} = 1 $$ as the integrand for the first element of the gradient $\\nabla_{\\boldsymbol{\\mathrm{a}}} \\phi(\\boldsymbol{\\mathrm{a}}_0)$. All the elements in the first row and first column of $\\boldsymbol{\\mathrm{H}}_\\phi$ are therefore zero-valued.\n",
    "\n",
    "The rank-deficiency of $\\boldsymbol{\\mathrm{H}}_\\phi$ limits our gradient-search options.  [Nocedel and Wright](https://www.springer.com/gp/book/9780387303031) describe \"line-search\" [[Nocedel2006, chap 3](https://www.springer.com/gp/book/9780387303031)] and \"trust-zone\" [[Nocedel2006, chap 4](https://www.springer.com/gp/book/9780387303031)] methods. The former represents the \"default\" method. <font color = '#ff3042'>*When* $\\boldsymbol{\\mathrm{H}}_\\phi$ *is positive-definite*</font>, $$\\boldsymbol{\\mathrm{a}}_{\\kappa + 1} = \\boldsymbol{\\mathrm{a}}_{\\kappa } -\\boldsymbol{\\mathrm{H}}_\\phi^{-1} (\\boldsymbol{\\mathrm{a}}_{\\kappa }) \\nabla_{\\boldsymbol{\\mathrm{a}}}(\\boldsymbol{\\mathrm{a}}_{\\kappa })$$ straightforwardly occurs as our line-search iteration rule.  Rank-deficiency in $\\boldsymbol{\\mathrm{H}}_\\phi$ can however lead to extremely large iteration-step lengths. \n"
   ]
  },
  {
   "cell_type": "markdown",
   "metadata": {},
   "source": [
    "<font color = '#003459'>\n",
    "    \n",
    "\n",
    "#### Constructing the gradient-vector  $\\nabla_\\boldsymbol{\\mathrm{a}} \\phi(\\boldsymbol{\\mathrm{a}})$ terms. \n",
    "</font>\n",
    "\n",
    "Since the limits of integration in (23) are independent of $\\boldsymbol{\\mathrm{a}}$, we simply apply the gradient operator $\\nabla_\\boldsymbol{\\mathrm{a}}$ directly to the integrand, $$\\begin{aligned} \\nabla_\\boldsymbol{\\mathrm{a}} \\phi(\\boldsymbol{\\mathrm{a}}) &= \\int_{0}^{1} \\nabla_\\boldsymbol{\\mathrm{a}}\\ln\\bigg(\\tfrac{\\hat{m}_\\mathcal{R}(y;\\,\\boldsymbol{\\mathrm{a}})}{m_\\mathcal{R}(y)} \\bigg)\\, dy \\\\  &= \\int_{\\tfrac{1}{2}}^{1} \\nabla_\\boldsymbol{\\mathrm{a}}\\ln\\bigg(\\hat{m}_\\mathcal{R}(y;\\,\\boldsymbol{\\mathrm{a}}) \\bigg)\\, dy   \\end{aligned}  \\text{.} \\qquad \\qquad \\text{(15a)} $$ The second line in (15a) follows from the logarithm of the quotient as the difference of the logarithms; that the second term in the difference is independent of $\\boldsymbol{\\mathrm{a}}$; and from (10). \n",
    "\n",
    "Consider, now, the $\\nu^\\text{th}$ element of $\\nabla_\\boldsymbol{\\mathrm{a}} \\phi(\\boldsymbol{\\mathrm{a}})$ from (wr).  From basic differential calculus, this becomes $$\\begin{aligned} \\big[\\nabla_\\boldsymbol{\\mathrm{a}} \\phi(\\boldsymbol{\\mathrm{a}}) \\big]_\\nu &= \\int_{\\tfrac{1}{2}}^{1} \\tfrac{\\partial \\,\\ln\\big(\\hat{m}_\\mathcal{R}(y;\\,\\boldsymbol{\\mathrm{a}})\\big)}{\\partial a_\\nu} dy \\\\ &= \\int_{\\tfrac{1}{2}}^{1} \\tfrac{\\partial \\, \\hat{m}_\\mathcal{R}(y;\\,\\boldsymbol{\\mathrm{a}})}{\\partial a_\\nu}\\tfrac{1}{\\hat{m}_\\mathcal{R}(y;\\,\\boldsymbol{\\mathrm{a}})} dy \\end{aligned}\\text{.} \\qquad \\qquad \\text{(15b)}$$\n",
    "\n",
    "\n",
    "<font color = '#003459'>\n",
    "    \n",
    "#### Constructing the Hessian-matrix   terms. \n",
    "</font>\n",
    "\n",
    "The Hessian matrix $\\boldsymbol{\\mathrm{H}}_\\phi(\\boldsymbol{\\mathrm{a}})$ proceeds similarly, adding a second derivative to the mix. Specifically, $$\\begin{aligned} \\big[\\boldsymbol{\\mathrm{H}}_\\phi(\\boldsymbol{\\mathrm{a}}) \\big]_{\\mu,\\nu} &= \\int_{\\tfrac{1}{2}}^{1} \\tfrac{\\partial^2 \\,\\ln\\big(\\hat{m}_\\mathcal{R}(y;\\,\\boldsymbol{\\mathrm{a}})\\big)}{\\partial a_\\mu \\,\\partial a_\\nu } dy \\\\ &= \\displaystyle \\int_{\\tfrac{1}{2}}^{1} \\tfrac{\\hat{m}_\\mathcal{R}(y;\\,\\boldsymbol{\\mathrm{a}})\\tfrac{\\partial^2\\,\\hat{m}_\\mathcal{R}(y;\\,\\boldsymbol{\\mathrm{a}})}{\\partial a_\\mu \\,\\partial a_\\nu}-\\tfrac{\\partial\\,\\hat{m}_\\mathcal{R}(y;\\,\\boldsymbol{\\mathrm{a}})}{\\partial a_\\mu}\\tfrac{\\partial\\,\\hat{m}_\\mathcal{R}(y;\\,\\boldsymbol{\\mathrm{a}})}{\\partial a_\\nu}}{\\big(\\hat{m}_\\mathcal{R}(y;\\,\\boldsymbol{\\mathrm{a}})\\big)^2} dy  \\end{aligned}\\text{.} \\qquad \\qquad \\text{(16)}$$"
   ]
  },
  {
   "cell_type": "code",
   "execution_count": 10,
   "metadata": {},
   "outputs": [
    {
     "name": "stdout",
     "output_type": "stream",
     "text": [
      "Most-recent start 191205_190359Z UTC.\n",
      "Most-recent complete 191205_190613Z UTC.\n",
      "Execution time: 134 seconds\n"
     ]
    },
    {
     "data": {
      "text/plain": [
       "<matplotlib.axes._subplots.AxesSubplot at 0x7fc1114b8400>"
      ]
     },
     "execution_count": 10,
     "metadata": {},
     "output_type": "execute_result"
    },
    {
     "data": {
      "image/png": "[encoded data removed]",
      "text/plain": [
       "<Figure size 432x288 with 1 Axes>"
      ]
     },
     "metadata": {},
     "output_type": "display_data"
    }
   ],
   "source": [
    "# Here we calculate the KL distance of a Rayleigh distribution with respect to a Normal. In \n",
    "# both cases, we use unit scale and zero location parameters. For each distribution, we\n",
    "# first draw a length-100 sample of random variables, and calculate the empirical cumulative\n",
    "# distribution function. We perform the following steps.\n",
    "# Ⓐ Calulate metalog coefficient vectors 𝗮. Use the scipy.stats to generate \n",
    "#    arrays of cumulative distributions for each. We fit these CDFs to the\n",
    "#    metalogs, to get coefficient vectors. Use two locally-defined functions, \n",
    "#    metalog_quantile_coeffs for unbounded distributions and metalog_quantile_coeffs_lb\n",
    "#    for distributions whose regions of support are lower-bounded.\n",
    "start_time = datetime.utcnow()\n",
    "print('Most-recent start ' + start_time.strftime('%y%m%d_%H%M%SZ') + ' UTC.')\n",
    "𝘔 = 6\n",
    "𝒫_norm = np.transpose(a = np.array([(sci.stats.norm.cdf(x = 𝓆,\n",
    "                                                              loc = 0,\n",
    "                                                              scale = 1),\n",
    "                                        𝓆)\n",
    "                                  for 𝓆 in np.arange(start = sci.stats.norm.ppf(q = 0.025,\n",
    "                                                                                     loc = 0,\n",
    "                                                                                     scale = 1),\n",
    "                                                             stop = sci.stats.norm.ppf(q = 0.975,\n",
    "                                                                                         loc = 0,\n",
    "                                                                                         scale = 1),\n",
    "                                                             step = 0.05)]))\n",
    "𝗮_norm = metalog_quantile_coeffs(𝘔 = 𝘔, \n",
    "                                 𝒫 = 𝒫_norm)\n",
    "𝒫_rayl = np.transpose(a = np.array([(sci.stats.rayleigh.cdf(x = 𝓆,\n",
    "                                                              loc = 0,\n",
    "                                                              scale = 1),\n",
    "                                        𝓆)\n",
    "                                  for 𝓆 in np.arange(start = sci.stats.rayleigh.ppf(q = 0.025,\n",
    "                                                                                     loc = 0,\n",
    "                                                                                     scale = 1),\n",
    "                                                             stop = sci.stats.rayleigh.ppf(q = 0.975,\n",
    "                                                                                         loc = 0,\n",
    "                                                                                         scale = 1),\n",
    "                                                             step = 0.05)]))\n",
    "𝗮_rayl = metalog_quantile_coeffs_lb(𝘔 = 𝘔, \n",
    "                                   𝒫 = 𝒫_rayl, \n",
    "                                   𝒷ℓ = 0)\n",
    "#\n",
    "# Ⓑ Construct vectors of derivatives of the metalog-fit PPFs of which the integrand\n",
    "#    in (5) is comprised. We get this using internally-defined functions \"m_𝗮\" for unbounded\n",
    "#    distributions like our Gaussian, and \"m_𝗮_lb\" for lower-bounded distributions such as our \n",
    "#    Rayeleigh.\n",
    "𝜂_norm = np.arange(start = 0.0001,\n",
    "                    stop = 1,\n",
    "                    step = 0.0001)\n",
    "𝜂_rayl = np.arange(start = 0.0001,\n",
    "                    stop = 1,\n",
    "                    step = 0.0001)\n",
    "m_norm = m_𝗮(𝛂 = 𝗮_norm, \n",
    "             𝜂 = 𝜂_norm)\n",
    "m_rayl = m_𝗮_lb(𝛂 = 𝗮_rayl, \n",
    "                𝒷ℓ = 0,\n",
    "                𝜂 = 𝜂_rayl)\n",
    "M_norm = M_𝗮(𝛂 = 𝗮_norm, \n",
    "             𝜂 = 𝜂_norm)\n",
    "M_rayl = M_𝗮_lb(𝛂 = 𝗮_rayl, \n",
    "                𝒷ℓ = 0,\n",
    "                𝜂 = 𝜂_rayl)\n",
    "\n",
    "𝛂 = 𝗮_rayl\n",
    "𝜂 = np.arange(start = 1/2,\n",
    "            stop = 1,\n",
    "            step = 0.00001)\n",
    "#\n",
    "# Ⓓ Find the vector-space of our baseline vector 𝗮0. This, in conjunction with\n",
    "#   𝗮0 itself gives us the vicinity we are going to scan in order to understand\n",
    "#   the variation of 𝜙(𝗮). We perform a \"constructive\" QR factorization of \n",
    "#   𝗮0. This produces an orthonormal set.  The first vector is congruent with\n",
    "#   𝗮0 and the remainder are orthonormal projections onto the nullspace. Capture\n",
    "#   this orthonormal set as a dictionary.\n",
    "𝗮0 = np.expand_dims(a = 𝗮_rayl,\n",
    "                    axis = -1)\n",
    "𝗔 = {idx : np.expand_dims(a = vec,\n",
    "                      axis = -1) \n",
    "         for (idx, vec) in enumerate(np.transpose(np.linalg.qr(a = 𝗮0,\n",
    "                                                               mode = 'complete')[0]))}\n",
    "#\n",
    "# Ⓔ Generate a set of offset factors. We scan the vector-space neighborhood\n",
    "#    of 𝗮0 by calculating 𝜙(𝗮0 + 𝜊ᵤ ||𝗮0|| 𝗮ᵥ) where 𝜊ᵤ ∈ {-𝜀, ..., 𝜀} for 𝜀 ≪ 1.\n",
    "𝜀 = 0.25\n",
    "𝝾 = dict(enumerate(np.arange(start = -𝜀,\n",
    "                              stop = 𝜀 + 0.005,\n",
    "                              step = 𝜀/20)*np.linalg.norm(𝗮0)))\n",
    "#\n",
    "# Ⓕ Scan the vector space. Collect the results in a dataframe.\n",
    "𝚿 = pd.DataFrame(data = [[𝜙_𝗮(𝛂 = 𝗔.get(μ)*𝝾.get(ν)*np.linalg.norm(𝗮0)+𝗮0, \n",
    "                              𝜂 = 𝜂) for ν in 𝝾.keys()]\n",
    "                            for μ in 𝗔.keys()],\n",
    "                 index = 𝗔.keys(),\n",
    "                 columns = 𝝾.values())\n",
    "finish_time = datetime.utcnow()\n",
    "print('Most-recent complete ' + finish_time.strftime('%y%m%d_%H%M%SZ') + ' UTC.')\n",
    "print('Execution time: ' + str((finish_time - start_time).seconds) + ' seconds')\n",
    "col_palette = dict(enumerate(['#0051ba', '#85898a', '#c66e43', '#971b2f', '#004733', '#6c5c76']))\n",
    "𝚿.T.plot(color = list(col_palette.values()))"
   ]
  },
  {
   "cell_type": "code",
   "execution_count": 11,
   "metadata": {},
   "outputs": [
    {
     "name": "stdout",
     "output_type": "stream",
     "text": [
      "Most-recent start 191205_190614Z UTC.\n",
      "Most-recent complete 191205_190904Z UTC.\n",
      "Execution time: 170 seconds\n"
     ]
    },
    {
     "data": {
      "text/plain": [
       "<matplotlib.axes._subplots.AxesSubplot at 0x7fc1104472b0>"
      ]
     },
     "execution_count": 11,
     "metadata": {},
     "output_type": "execute_result"
    },
    {
     "data": {
      "image/png": "[encoded data removed]",
      "text/plain": [
       "<Figure size 432x288 with 1 Axes>"
      ]
     },
     "metadata": {},
     "output_type": "display_data"
    }
   ],
   "source": [
    "start_time = datetime.utcnow()\n",
    "print('Most-recent start ' + start_time.strftime('%y%m%d_%H%M%SZ') + ' UTC.')\n",
    "𝗮0 = np.expand_dims(a = 𝗮_rayl,\n",
    "                    axis = -1)\n",
    "𝗔 = {idx : np.expand_dims(a = vec,\n",
    "                      axis = -1) \n",
    "         for (idx, vec) in enumerate(np.transpose(np.linalg.qr(a = 𝗮0,\n",
    "                                                               mode = 'complete')[0]))}\n",
    "𝝾 = dict(enumerate(np.arange(start = -𝜀,\n",
    "                              stop = 𝜀 + 0.005,\n",
    "                              step = 𝜀/20)*np.linalg.norm(𝗮0)))\n",
    "𝒷ℓ = 0\n",
    "𝜂 = np.arange(start = 1/2,\n",
    "            stop = 1,\n",
    "            step = 0.00001)\n",
    "\n",
    "# Construct a Hessian matrix for a lower semi-bounded distribution. Our arguments\n",
    "𝜉 = 𝒷ℓ + exp(metalog_quantile_series(len(𝗮0)))\n",
    "Φ = Matrix([diff(log(1/diff(𝜉, 𝘺)), a[𝜈])\n",
    "        for 𝜈 in range(len(𝗮0))]).subs({a[key] : val\n",
    "                                        for (key, val) in dict(enumerate(𝗮0)).items()})\n",
    "𝝣 = Matrix([[diff(log(1/diff(𝜉, 𝘺)), a[𝜈], a[μ])\n",
    "                for 𝜈 in range(len(𝗮0))]\n",
    "            for μ in range(len(𝗮0))]).subs({a[key] : val\n",
    "                                            for (key, val) in dict(enumerate(𝗮0)).items()})\n",
    "𝚫 = np.expand_dims(a = np.trapz(y = np.hstack(list(map(lambdify(𝘺, Φ),𝜂))),\n",
    "                                 x = 𝜂),\n",
    "                   axis = 1)\n",
    "𝝜 = np.trapz(y = np.array(list(map(lambdify(𝘺, 𝝣),𝜂))),\n",
    "             x = 𝜂,\n",
    "             axis = 0)\n",
    "𝜑0 = 𝜙_𝗮(𝛂 = 𝗮0,\n",
    "         𝜂 = 𝜂)\n",
    "𝚯 = pd.DataFrame(data = [[𝜑0 + np.asscalar(𝝾.get(𝜇)*np.dot(a = np.transpose(𝚫),\n",
    "                                                            b = 𝗔.get(𝜈))*np.linalg.norm(𝗮0) +\\\n",
    "                                            (𝝾.get(𝜇)**2)*(np.linalg.norm(𝗮0)**2)*\\\n",
    "                                                         np.dot(b = np.dot(a = 𝝜,\n",
    "                                                                            b = 𝗔.get(𝜈)),\n",
    "                                                                 a = np.transpose(𝗔.get(𝜈)))/2)\n",
    "                                for 𝜇 in 𝝾.keys()]\n",
    "                            for 𝜈 in 𝗔.keys()],\n",
    "                 index =  𝗔.keys(),\n",
    "                 columns = 𝝾.values())\n",
    "finish_time = datetime.utcnow()\n",
    "print('Most-recent complete ' + finish_time.strftime('%y%m%d_%H%M%SZ') + ' UTC.')\n",
    "print('Execution time: ' + str((finish_time - start_time).seconds) + ' seconds')\n",
    "col_palette = dict(enumerate(['#0051ba', '#85898a', '#c66e43', '#971b2f', '#004733', '#6c5c76']))\n",
    "𝚯.T.plot(ls = '--',\n",
    "         color = list(col_palette.values()))"
   ]
  },
  {
   "cell_type": "code",
   "execution_count": 18,
   "metadata": {},
   "outputs": [
    {
     "data": {
      "text/plain": [
       "(array([[ 1.        ,  0.        ,  0.        ,  0.        ,  0.        ,\n",
       "          0.        ],\n",
       "        [-0.        , -0.87622806,  0.38770795,  0.25505636, -0.05340636,\n",
       "          0.11832563],\n",
       "        [-0.        , -0.42203005, -0.66921004, -0.37138299, -0.37964583,\n",
       "         -0.30330228],\n",
       "        [-0.        , -0.10550516,  0.39899229, -0.6782239 ,  0.4248926 ,\n",
       "         -0.43491658],\n",
       "        [-0.        , -0.05124226, -0.00872674, -0.55635982, -0.04497438,\n",
       "          0.82809368],\n",
       "        [-0.        , -0.2008928 , -0.49251342,  0.16582228,  0.81881645,\n",
       "          0.13825776]]),\n",
       " array([[ 0.00000000e+00,  0.00000000e+00,  0.00000000e+00,\n",
       "          0.00000000e+00,  0.00000000e+00,  0.00000000e+00],\n",
       "        [ 0.00000000e+00, -1.05315844e+01, -5.18602966e+00,\n",
       "         -1.22219522e+00, -6.20524937e-01, -2.49194558e+00],\n",
       "        [ 0.00000000e+00,  0.00000000e+00, -2.56635399e-01,\n",
       "          1.19319472e-01, -1.00145719e-03, -1.82580546e-01],\n",
       "        [ 0.00000000e+00,  0.00000000e+00,  0.00000000e+00,\n",
       "         -2.37060166e-02, -1.44327152e-02,  1.21854160e-02],\n",
       "        [ 0.00000000e+00,  0.00000000e+00,  0.00000000e+00,\n",
       "          0.00000000e+00, -1.92442380e-04,  2.69652041e-03],\n",
       "        [ 0.00000000e+00,  0.00000000e+00,  0.00000000e+00,\n",
       "          0.00000000e+00,  0.00000000e+00,  2.60686685e-04]]))"
      ]
     },
     "execution_count": 18,
     "metadata": {},
     "output_type": "execute_result"
    }
   ],
   "source": [
    "np.linalg.qr(𝝜)"
   ]
  },
  {
   "cell_type": "code",
   "execution_count": 13,
   "metadata": {},
   "outputs": [
    {
     "data": {
      "image/png": "[encoded data removed]",
      "text/plain": [
       "<Figure size 504x288 with 1 Axes>"
      ]
     },
     "metadata": {},
     "output_type": "display_data"
    }
   ],
   "source": [
    "col_palette = dict(enumerate(['#0051ba', '#85898a', '#c66e43', '#971b2f', '#004733', '#6c5c76']))\n",
    "plt.figure(figsize=(7, 4))\n",
    "for ψ in 𝚿.index:\n",
    "    plt.plot(𝚿.columns,\n",
    "             𝚿.loc[ψ],\n",
    "             c = col_palette.get(ψ))\n",
    "for ϑ in 𝚯.index:\n",
    "    plt.plot(𝚯.columns,\n",
    "             𝚯.loc[ϑ],\n",
    "             ls = '--',\n",
    "             c = col_palette.get(ϑ))"
   ]
  },
  {
   "cell_type": "code",
   "execution_count": 14,
   "metadata": {},
   "outputs": [
    {
     "data": {
      "text/plain": [
       "array([1.20795796e+01, 3.08631399e-01, 2.53052678e-02, 2.22118089e-03,\n",
       "       1.53391620e-05, 0.00000000e+00])"
      ]
     },
     "execution_count": 14,
     "metadata": {},
     "output_type": "execute_result"
    }
   ],
   "source": [
    "np.linalg.eigvals(a = 𝝜)"
   ]
  },
  {
   "cell_type": "code",
   "execution_count": 15,
   "metadata": {},
   "outputs": [
    {
     "data": {
      "text/plain": [
       "(1.9126603250866656, 0.13863371337045133)"
      ]
     },
     "execution_count": 15,
     "metadata": {},
     "output_type": "execute_result"
    }
   ],
   "source": [
    "𝛥_k = 0.15*np.linalg.norm(x = 𝗮0)\n",
    "𝗽ks = - 𝛥_k\n",
    "𝜏 = (np.linalg.norm(x = 𝚫,\n",
    "                    ord = 2)**3)/(𝛥_k*np.asscalar(np.dot(a = np.transpose(a = 𝚫),\n",
    "                                                         b = np.dot(a = 𝝜,\n",
    "                                                                    b = 𝚫))))\n",
    "(𝜏, 𝛥_k)"
   ]
  },
  {
   "cell_type": "code",
   "execution_count": 16,
   "metadata": {},
   "outputs": [
    {
     "data": {
      "text/plain": [
       "[<matplotlib.lines.Line2D at 0x7fc10f8ae128>]"
      ]
     },
     "execution_count": 16,
     "metadata": {},
     "output_type": "execute_result"
    },
    {
     "data": {
      "image/png": "[encoded data removed]",
      "text/plain": [
       "<Figure size 432x288 with 1 Axes>"
      ]
     },
     "metadata": {},
     "output_type": "display_data"
    }
   ],
   "source": [
    "plt.plot(M_norm, \n",
    "         m_norm )"
   ]
  },
  {
   "cell_type": "code",
   "execution_count": 17,
   "metadata": {},
   "outputs": [
    {
     "data": {
      "text/plain": [
       "[<matplotlib.lines.Line2D at 0x7fc10f80d160>]"
      ]
     },
     "execution_count": 17,
     "metadata": {},
     "output_type": "execute_result"
    },
    {
     "data": {
      "image/png": "[encoded data removed]",
      "text/plain": [
       "<Figure size 432x288 with 1 Axes>"
      ]
     },
     "metadata": {},
     "output_type": "display_data"
    }
   ],
   "source": [
    "plt.plot(M_rayl, \n",
    "         m_rayl )"
   ]
  },
  {
   "cell_type": "code",
   "execution_count": null,
   "metadata": {},
   "outputs": [],
   "source": []
  }
 ],
 "metadata": {
  "kernelspec": {
   "display_name": "Python 3",
   "language": "python",
   "name": "python3"
  },
  "language_info": {
   "codemirror_mode": {
    "name": "ipython",
    "version": 3
   },
   "file_extension": ".py",
   "mimetype": "text/x-python",
   "name": "python",
   "nbconvert_exporter": "python",
   "pygments_lexer": "ipython3",
   "version": "3.8.5"
  }
 },
 "nbformat": 4,
 "nbformat_minor": 4
}
