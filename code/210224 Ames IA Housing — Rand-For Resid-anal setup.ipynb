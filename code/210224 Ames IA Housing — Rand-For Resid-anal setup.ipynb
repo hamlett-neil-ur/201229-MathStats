{
 "cells": [
  {
   "cell_type": "markdown",
   "metadata": {},
   "source": [
    "<font color = '#0051ba'>\n",
    "<img height=\"60\" width=\"120\" src=\"../Graphics/UR_Logo.jpg\" > \n",
    "\n",
    "\n",
    "\n",
    "<p align=\"center\">\n",
    "\n",
    "# Residential Real-Estate Spot-Market Pricing Model for Ames, IA.\n",
    "\n",
    "</p>\n",
    "\n",
    "</font>\n",
    "\n",
    "<font color = '#003459'>\n",
    "\n",
    "### Client:  SlumRock Partners, LLP\n",
    "### Deliverable:  Interim Report\n",
    "    \n",
    "</font>\n",
    "\n",
    "### Overview.\n",
    "\n",
    "This logic provides Uncertainty Research client SlumRock Partners with a Spot-Market Pricing Model for residential real estate.  SlumRock initiated a fund to follow other hedge funds in to the residential real-estate rental market.  The business model is described in [R. Dizember, L. Kuzisto, *WSJ*, July 21, 20176](https://www.wsj.com/articles/meet-your-new-landlord-wall-street-1500647417) and [A. Semiuels, *The Atlantic*, February 13, 2019](https://www.theatlantic.com/technology/archive/2019/02/single-family-landlords-wall-street/582394/), among other places. \n",
    "\n",
    "This logic estimates housing-market spot prices using a subset of 216 available explanatory variables. The high-level workflow follows.\n",
    "\n",
    "🅐 **Read in and cleanse data**.  We read in the data and address basic heigene issues. We also generate a data-dictionary template, which is exported to a csv file.  We further elaborate on data characteristics in that data dictionary.  \n",
    "\n",
    "🅑 **Perform data preparation**.  The populated data dictionary is read in and employed by the logic to apply additional preparatory activities.  This includes decisions about which explanatory variables to discard up front, and how to handle null values.\n",
    "\n",
    "🅒 **Influential-variable analysis**.  Ascertain which variables are most-likely influential for our response variable `SalePrice`.  We have three classes of variables.\n",
    "\n",
    "⓵ <span style=\"text-decoration:underline\">Continuous Numeric Variables</span>.  Straightforwardly, the degree of influence for continuous numeric variables is directly related to their colinearity — e.g,. correlation — with the response variable.  These variables are judged to be influential if the correlation $\\rho_{x_{i,j}, y_i }\\gtrapprox 0.45$.  This relatively low threshold offers a starting point, from which the initial model is likely overfit.\n",
    "\n",
    "⓶ <span style=\"text-decoration:underline\">Discrete Numeric Variables</span>.  We emply the same criteria for discrete explanatories as for continuous.  These variables are judged to be influential if the correlation $\\rho_{x_{i,j}, y_i }\\gtrapprox 0.45$.  \n",
    "\n",
    "⓷ <span style=\"text-decoration:underline\">Categorical Variables</span>.  A definition of colinearity between discrete and continuous variables does not exist.  We can however think about using the reciprocal problem as indicating extent of influence. That is, if our continouous response variable by itself predicts the categoricals, then the latter must be influential of the former.  So, we construct a univariate multinomial logistic model for each explanatory categorical to see how well the continouous response variable `SalePrice` predicts them. Categoricals are deemed influential if the score of the associated model $\\gtrapprox 0.65$.\n",
    "\n",
    "\n",
    "🅓 **Feature engineering.** We split the data into training and test steps. We then perform feature engineering.\n",
    "\n",
    "⓵ We expand our categorical variables into dummy variables.\n",
    "\n",
    "⓶ We expand our numeric — continouous and discrete — variables into second-order polynomials.\n",
    "\n",
    "⓷ We then standardize the scale.\n",
    "\n",
    "🅔 **Model Development**.  Our consideration here is limited to linear models.  We explore four variaants.\n",
    "\n",
    "⓵ Ordinary Least Squares.  \n",
    "\n",
    "⓶ Ridge regression.\n",
    "\n",
    "⓷ Lasso regression.\n",
    "\n",
    "⓸ ElasticNet regression.\n",
    "\n",
    "In all cases we contribute basic analysis-of-variance (ANOVA) and related scoring, e.g., Coefficient of Determination $R^2$.  With the OLS, we also confidence intervals and significance tests (p-values).  We also look at response and residual plots [Olive, 2017, §2.1](https://www.springer.com/gp/book/9783319552507).  Adding Locally-Weigthed Scatter-plot Smoothing (LOWESS) [Olive, 2017, §2.2](https://www.springer.com/gp/book/9783319552507) gives us a sense of the model's bias.\n",
    "\n",
    "🅕 **Model Iteration**. Based on ANOVA and -related scores, we select the Ridge-regression as the baeline approach.  Our model's residuals turn out to be outlier-dominated.  Our coefficients of variation for training and test are $R_\\text{train}^2 \\approx 0.88$ and $R_\\text{test} \\approx 0.81$, respectively.  The LOWESS curves deviate modestly from the ideal response and residual curves.\n",
    "\n",
    "Our iteration focuses on these outliers.  We remove variables a few at at time — mostly interaction variables for which phenomenological justificaiton doesn't seem obvious.  We get to the point at which `GrLivArea`, above-grade living space, dominates.  \n",
    "\n",
    "🅖 **Model Interpretation**. Once phenomenologically justifiable explanatory dominate our outliers' residuals, we turn to model interpretation.  Our model — except for a small number ($\\lesssim 3-4$ ) outliers — explains the `SalePrice` response variable relatively well.  We look at the specific outliers. They are large-footprint (`GrLivArea`) properties in a `Neighborhood` `Edwards` for which prices are low for the market.  We do not have evidence to justify discarding these measurements.\n",
    "\n",
    "Additionally, our model overestimates prices at the upper end of the market.  This is a limitation of linearity.\n",
    "\n",
    "\n"
   ]
  },
  {
   "cell_type": "code",
   "execution_count": 1,
   "metadata": {},
   "outputs": [],
   "source": [
    "#Imports:\n",
    "import pandas as pd\n",
    "import numpy as np\n",
    "from collections import Counter\n",
    "import pandas as pd\n",
    "import scipy.stats as stats\n",
    "import os, io\n",
    "import matplotlib.pyplot as plt\n",
    "from matplotlib import cm\n",
    "import functools as fct\n",
    "import seaborn as sns\n",
    "import itertools as it\n",
    "import scipy as sci\n",
    "from scipy.stats import skew, anderson, kstest\n",
    "import math as mt\n",
    "from sklearn.preprocessing import StandardScaler, PolynomialFeatures\n",
    "from sklearn.model_selection import train_test_split, cross_val_score, cross_validate\n",
    "from sklearn.feature_selection import f_regression\n",
    "import statsmodels.api as sm\n",
    "from copy import deepcopy\n",
    "from scipy.constants import golden\n",
    "from metalog import metalog\n",
    "\n",
    "from statsmodels.distributions.empirical_distribution import ECDF\n",
    "\n",
    "from sklearn.model_selection import train_test_split\n",
    "from sklearn.pipeline import Pipeline\n",
    "from sklearn.model_selection import GridSearchCV\n",
    "from statsmodels.nonparametric.smoothers_lowess import lowess\n",
    "from sklearn.ensemble import RandomForestRegressor\n",
    "from sklearn.neighbors import KNeighborsRegressor, NearestNeighbors\n",
    "from sklearn.linear_model import LogisticRegression\n",
    "\n",
    "\n",
    "data_source_dir = '/Users/nhamlett/Documents/GitHub/UncertaintResearch/MathStats/data'\n",
    "\n"
   ]
  },
  {
   "cell_type": "code",
   "execution_count": 2,
   "metadata": {},
   "outputs": [],
   "source": [
    "#\n",
    "# Partition a list into a specified number of bins.  Our inputs\n",
    "# are:\n",
    "# ⧐ parted_list is the list to be partitioned;\n",
    "# ⧐ partition_counts specifies the number of bins into which\n",
    "#   parted_list is divided.\n",
    "# We produce an enumerated dictionary of the list partitions.\n",
    "def partition_list(parted_list, partition_counts):\n",
    "    parted_list = np.sort(np.array(parted_list))\n",
    "    partition_len = int(np.ceil(len(parted_list)/partition_counts))\n",
    "    partitions = [np.array(object = range(partition_len)) + part * partition_len\n",
    "                     for part in range(partition_counts)]\n",
    "    partitions[-1] = np.arange(start = partitions[-1][0],\n",
    "                               stop = parted_list.shape[0])\n",
    "    return dict(enumerate([list(parted_list[part])\n",
    "                             for part in partitions]))\n",
    "#\n",
    "# CALCULATE ANALYSIS-OF-VARIANCE (ANOVA) STATISTICS for a given\n",
    "# observation-estimate pair.  We calculate Total Sum of Suares,\n",
    "# Error Sum of Squaresm, Regression Sum of Squares, and \n",
    "# coefficient of deternination in accordance with \n",
    "# [Dielman, 2005, pp. 94 - 96].\n",
    "def anova(y_observed, y_estimated):\n",
    "    # Total sum of squares.\n",
    "    SST = np.square(y_observed - y_observed.mean()).sum()\n",
    "    #\n",
    "    # Error sum of squares.\n",
    "    SSE = np.square(y_observed - y_estimated ).sum()\n",
    "    #\n",
    "    # Regression sum of squares.\n",
    "    SSR = np.square(y_estimated - y_observed.mean()).sum()\n",
    "    #\n",
    "    # Coefficient of determination.\n",
    "    R2 = 1 - SSE/SST\n",
    "    #\n",
    "    return {'root_SST' : np.sqrt(SST),\n",
    "            'root_SSE' : np.sqrt(SSE),\n",
    "            'root_SSR' : np.sqrt(SSR),\n",
    "            'SST-SSE-SSR' : SST - SSE - SSR,\n",
    "            'R2' : R2}\n",
    "#\n",
    "# Generate a 2×2 grid of Response, Residual plots. Our inputs are:\n",
    "# ⧐ y_train, a vector training-data-set observed, response variables;\n",
    "# ⧐ y_test, a vector test-data-set observed, response variables;\n",
    "# ⧐ fit_train, a vector training-data-set estimated, response variables;\n",
    "# ⧐ fit_test, a vector test-data-set estimated, response variables; and\n",
    "# ⧐ plot_title, a text string for the \"suptitle\" label.\n",
    "def response_residual_plots(y_test, y_train, fit_test, fit_train, plot_title):\n",
    "    # Encapsulate our inputs into a dictionary. This makes managing simpler\n",
    "    # with subsequent control loops.\n",
    "    resp_resid = {'y_train' : y_train,\n",
    "                  'y_test' : y_test,\n",
    "                  'fit_train' : fit_train,\n",
    "                  'fit_test' : fit_test,\n",
    "                  'resid_train' : y_train - fit_train,\n",
    "                  'resid_test' : y_test - fit_test}\n",
    "    #\n",
    "    # Initialize the plot.  We define a 2×2 subplot arrangement.  Encapsulate our\n",
    "    # labels and plot axes into dictionaries.\n",
    "    fig, axes = plt.subplots(2, 2, figsize = (15, 7.5))\n",
    "    plt_axes = dict(enumerate(np.ndarray.flatten(axes)))\n",
    "    title_params = dict(enumerate(it.product(['Response', 'Residual'],\n",
    "                                             ['training', 'test'])))\n",
    "    yaxis_labels = dict(enumerate(2 * ['Estimate, $\\hat{y}_i$'] + 2 * ['Residual, $\\epsilon_i$']))\n",
    "    xaxis_labels = dict(enumerate(2 * ['Observed, $y_i$'] + 2 * ['Estimated, $\\hat{y}_i$']))\n",
    "    #\n",
    "    # Construct an enumerated dictionary specifying our paired plots.\n",
    "    plot_var_pairs = dict(enumerate([('y_train', 'fit_train'),\n",
    "                                     ('y_test', 'fit_test'),\n",
    "                                     ('fit_train', 'resid_train'),\n",
    "                                     ('fit_test', 'resid_test')]))\n",
    "    #\n",
    "    # Now, cycle through each plot axis and instantiate the plot.\n",
    "    for axis_idx in plt_axes.keys():\n",
    "        # According to [Olive, 2017] we want to compare our scatters with\n",
    "        # an identity line or horizontal-axis line for response, residuals,\n",
    "        # respectively.  Conditionally instantiate these features.\n",
    "        if title_params.get(axis_idx)[0] == 'Residual':\n",
    "        # Add a LOWESS curve.\n",
    "            resp_lowess = sm.nonparametric.lowess\n",
    "            lowess_curve =  resp_lowess(endog = resp_resid.get(plot_var_pairs.get(axis_idx)[1]),\n",
    "                                        exog = resp_resid.get(plot_var_pairs.get(axis_idx)[0]))\n",
    "            plt_axes.get(axis_idx).plot(lowess_curve[:,0],\n",
    "                                        lowess_curve[:,1],\n",
    "                                        color = '#f2a900',\n",
    "                                        label = 'LOWESS')\n",
    "            plt_axes.get(axis_idx).axhline(color = '#e8000daa',\n",
    "                                           label = '$\\epsilon_i = 0$')\n",
    "            # Plot the scatter plots.\n",
    "            plt_axes.get(axis_idx).scatter(resp_resid.get(plot_var_pairs.get(axis_idx)[0]),\n",
    "                                           resp_resid.get(plot_var_pairs.get(axis_idx)[1]),\n",
    "                                           color = '#2767ff',\n",
    "                                           s = 5,\n",
    "                                           label = '$(\\hat{y}_i,\\,\\epsilon_i)$')\n",
    "            plt_axes.get(axis_idx).legend(loc = 'best',\n",
    "                                          edgecolor = '#003459',\n",
    "                                          fontsize = 14)\n",
    "            #\n",
    "        else:\n",
    "            resp_lowess = sm.nonparametric.lowess\n",
    "            lowess_curve =  resp_lowess(endog = resp_resid.get(plot_var_pairs.get(axis_idx)[1]),\n",
    "                                        exog = resp_resid.get(plot_var_pairs.get(axis_idx)[0]))\n",
    "            plt_axes.get(axis_idx).plot(lowess_curve[:,0],\n",
    "                                        lowess_curve[:,1],\n",
    "                                        color = '#f2a900',\n",
    "                                        label = 'LOWESS')\n",
    "            plt_axes.get(axis_idx).plot([0, min(max(resp_resid.get(plot_var_pairs.get(axis_idx)[0])),\n",
    "                                                max(resp_resid.get(plot_var_pairs.get(axis_idx)[1])))],\n",
    "                                        [0, min(max(resp_resid.get(plot_var_pairs.get(axis_idx)[0])),\n",
    "                                                max(resp_resid.get(plot_var_pairs.get(axis_idx)[1])))],\n",
    "                                        color = '#e8000daa',\n",
    "                                        label = '$\\hat{y}_i = y_i$')\n",
    "            # Plot the scatter plots.\n",
    "            plt_axes.get(axis_idx).scatter(resp_resid.get(plot_var_pairs.get(axis_idx)[0]),\n",
    "                                           resp_resid.get(plot_var_pairs.get(axis_idx)[1]),\n",
    "                                           color = '#2767ff',\n",
    "                                           s = 5,\n",
    "                                           label = '$(y_i,\\,\\hat{y}_i)$')\n",
    "            plt_axes.get(axis_idx).legend(loc = 'best',\n",
    "                                          edgecolor = '#003459',\n",
    "                                          fontsize = 14)\n",
    "            #\n",
    "        #\n",
    "        # Apply plot labels.\n",
    "        plt_axes.get(axis_idx).set_title(label = '{} plot, {} data'\\\n",
    "                                                    .format(*title_params.get(axis_idx)),\n",
    "                                         color = '#0051ba',\n",
    "                                          fontsize = 24)\n",
    "        plt_axes.get(axis_idx).set_xlabel(xlabel = xaxis_labels.get(axis_idx),\n",
    "                                          fontsize = 20)\n",
    "        plt_axes.get(axis_idx).set_ylabel(ylabel = yaxis_labels.get(axis_idx),\n",
    "                                          fontsize = 20)\n",
    "        #\n",
    "    # Apply the plot super title.\n",
    "    plt.suptitle(t = plot_title,\n",
    "                 va = 'top',\n",
    "                 y = .9675,\n",
    "                 color = '#003459',\n",
    "                 fontsize = 24,\n",
    "                 weight = 'bold');\n",
    "    fig.subplots_adjust(wspace = 0.25)\n",
    "    fig.subplots_adjust(hspace = 0.475)\n",
    "    return\n",
    "#\n",
    "# Perform manual cross-validation.  Particularly when we have\n",
    "# categorical explanatory variables with large numbers of categories,\n",
    "# we may get singularities in the sum-squares and -cross-roducts\n",
    "# SSCP matrix. The 'canned' sklearn.model_selection.cros_val_score  \n",
    "# fails to check for this. Here, we drop from our explanatory-\n",
    "# variable data matrix attributes for which we have no\n",
    "# finite values.  This provides for a stable model.\n",
    "#\n",
    "# Our inputs are:\n",
    "# ⧐ X is the matrix of explanatory variables;\n",
    "# ⧐ y is the observed response variables corresponding to X; and\n",
    "# ⧐ cv is the number of cross-validation folds to perform.\n",
    "#\n",
    "# We return a dictionary with the ANOVA statistics for each.\n",
    "#\n",
    "def manual_cross_val_anova(X, y, cv):\n",
    "    # ⓵ Partition the explanatory-variable dataframe indices into\n",
    "    #    \"cv\" partions.  We have to account for the occurrence\n",
    "    #    of an uneven partitions, if the length of our\n",
    "    #    data matrix is a noninteger multiple of our \"cv\".\n",
    "    X = X.reset_index(drop = True)\n",
    "    y = y.reset_index(drop = True)\n",
    "    part_len = int(np.ceil(len(X)/cv))\n",
    "    partitions = [np.array(object = range(part_len)) + part * part_len\n",
    "                     for part in range(cv)]\n",
    "    partitions[-1] = np.arange(start = partitions[-1][0],\n",
    "                               stop = X.shape[0])\n",
    "    partitions = dict(enumerate(partitions))\n",
    "    cross_val_anova = dict()\n",
    "    # estimator.set_params(fit_intercept = True)\n",
    "    #\n",
    "    # ⓶ Now cycle through each partition.  The indices in each\n",
    "    #    partition comprise our test data set.  So we drop those\n",
    "    #    indices for the training set.  \n",
    "    #    ⓐ Explicitly instantiate test and training data sets.\n",
    "    part_idx = list(partitions.keys())[-1]\n",
    "    for part_idx in partitions.keys():\n",
    "        X_train = X.drop(labels = partitions.get(part_idx),\n",
    "                         axis = 0)\\\n",
    "                   .assign(intercept = 1)\n",
    "        y_train = y.drop(labels = partitions.get(part_idx),\n",
    "                         axis = 0)\n",
    "        X_test = X.loc[partitions.get(part_idx)]\\\n",
    "                   .assign(intercept = 1)\n",
    "        y_test = y.loc[partitions.get(part_idx)]\n",
    "        #\n",
    "        #    ⓑ Identify columns in X_train for which all values are nonzero.\n",
    "        #       We sum down the columns and check for nonzero results.\n",
    "        #       This boolean result allows us to index into the columns\n",
    "        #       of X_train to get the columns with nonzero vaues.\n",
    "        finite_train_attributes = X_train.columns[(X_train.sum(axis = 0)!=0)]\n",
    "        #\n",
    "        #    ⓒ Train the model to the X_train, y_train, using only the\n",
    "        #       finite-valued columns in the former.\n",
    "        beta = sci.linalg.lstsq(a = X_train[finite_train_attributes],\n",
    "                               b = y_train)[0]\n",
    "        #estimator.fit(X = X_train[finite_train_attributes],\n",
    "        #              y = y_train);\n",
    "        #\n",
    "        #    ⓓ Now, pass the predictions using X_test\n",
    "        #       to the locally-defined function anova. Add the results to\n",
    "        #       our dictionary cross_val_anova using the dictionary.update method.\n",
    "        cross_val_anova.update(\n",
    "            {part_idx : anova(y_estimated = np.dot(a = X_test[finite_train_attributes],\n",
    "                                                   b = beta),\n",
    "                              y_observed = y_test)})\n",
    "    return cross_val_anova\n"
   ]
  },
  {
   "cell_type": "markdown",
   "metadata": {},
   "source": [
    "housing_raw<font color = '#0051ba'>\n",
    "\n",
    "##  Data Cleansing and Exploratory Data Analysis (EDA).\n",
    "\n",
    "</font>\n",
    "\n",
    "🅐 DATA CLEANSING.\n",
    "\n",
    "Our data cleansing and EDA result from an iterative process. This documentation begins after the first iteration.  Specifically, we describe undocumented activities performed during previous iterations.\n",
    "\n",
    "This includes analysis documented in our data dictionary [(data_dictionary_populated.csv)](https://git.generalassemb.ly/hamlett-neil-ga/project_2/blob/master/datasets/data_dictionary_populated.csv). Or data dictionary is read in in cell 🅑, below.  We constructed it by annotating a template created by applying the pandas.DataFrame.info() method to our raw data from the [train.csv](https://git.generalassemb.ly/hamlett-neil-ga/project_2/blob/master/datasets/train.csv) \"raw\" data file.\n",
    "\n",
    "Our data dictionary includes attribute information from the [data_description.txt](https://www.kaggle.com/c/house-prices-advanced-regression-techniques/data) file at the Kagggle website. We transferred this information into the *Notes* column of our data dictionary. We reviewed the data attribute-by-attribute. We identified each attribute as categorical, numerical, or unique ID (primary key). \n",
    "\n",
    "Our data dictionary also contains a *disposition* column.  This contains judgements about the disposition of records — or of overall atrributes themselves — based completeness, other conditions.  Based on these pieces of information in the data dictionary, we are able to apply our cleansing actions using python logic.\n",
    "\n",
    "This analysis influenced some of the specifications used by the `pandas.read_csv()` method to read in the raw data set [train.csv](https://git.generalassemb.ly/hamlett-neil-ga/project_2/blob/master/datasets/train.csv).  Specifically, the string `NA` is extensively used for \"not applicable.\"  Pandas' default behavior is to interpret this as `Null`. So we select `keep_default_na = False` to inhibit this behavior.  We find in our csv file — through visual inspection in a text editor — that missing values are actually blanks `''`. We therefore specify the option `na_values = ['']` in our `pandas.read_csv()` statement."
   ]
  },
  {
   "cell_type": "code",
   "execution_count": 3,
   "metadata": {},
   "outputs": [],
   "source": [
    "# Read in the data.  Immediately upon reading, rename of the columns, \n",
    "# replacing spaces in column names with underbars. We do this because spaces\n",
    "# in column names are inconvenient, if not downright evil 👹👺😈\n",
    "housing_raw = pd.read_csv(filepath_or_buffer = '../data/train.csv',\n",
    "                          keep_default_na = False,\n",
    "                          na_values = ['']).set_index(keys = 'PID',\n",
    "                                                          drop = False)\n",
    "housing_raw.rename(columns = dict(zip(housing_raw.columns,\n",
    "                                       housing_raw.columns.str.replace(' ',''))),\n",
    "                   inplace = True)\n",
    "housing_raw.rename(columns = dict(zip(housing_raw.columns,\n",
    "                                       housing_raw.columns.str.replace('/',''))),\n",
    "                   inplace = True)"
   ]
  },
  {
   "cell_type": "code",
   "execution_count": 4,
   "metadata": {},
   "outputs": [],
   "source": [
    "# Construct *Date_sold* attribute. Our raw data (train.csv) contains distinct \n",
    "# attributes for year sold and month sold. We want our sell date to be a \n",
    "# serial numeric variable. Converting it explicitly to a datetime object\n",
    "# is inconvenient. Datetime objects present difficulties in plotting and as\n",
    "# explanatory variables for regression.\n",
    "#\n",
    "# We instead create a YYYYMM attribute and call it \"Sell_date\". This takes \n",
    "# a wee bit of string-manipulation work.  We first concatenate Yr_Sold and\n",
    "# Mo_Sold as strings.  We then convert the results back to a numeric.\n",
    "# The built-in function \"zfill\" provides a very-convenient way to prepend \n",
    "# zeros to our single-digit months.\n",
    "housing_raw = housing_raw.assign(Sell_date = lambda Ξ : [int(str(yr) + str(mo).zfill(2))\n",
    "                                                            for (yr, mo) in Ξ[['YrSold', 'MoSold']].to_records(index = False)],\n",
    "                                 GrLivAreaLarge = lambda Ζ : ['large' if area >= 3000\n",
    "                                                              else 'normal'\n",
    "                                                              for area in Ζ['GrLivArea']])"
   ]
  },
  {
   "cell_type": "code",
   "execution_count": 5,
   "metadata": {},
   "outputs": [],
   "source": [
    "# Use substrings in notes to classify attribute type as either\n",
    "# numeric, discrete, categorical, or ID.  This operates on the\n",
    "# \"Notes\" attribute of the data dictionary.\n",
    "def classify_attribute(note):\n",
    "    if 'Categorical'.lower() in note.lower():\n",
    "        return 'Categorical'\n",
    "    elif 'Discrete'.lower() in note.lower():\n",
    "        return 'Discrete' \n",
    "    elif 'Numeric'.lower() in note.lower():\n",
    "        return 'Continuous'\n",
    "    elif 'target' in note.lower():\n",
    "        'Target'\n",
    "    else:\n",
    "        return 'Primary_key'"
   ]
  },
  {
   "cell_type": "code",
   "execution_count": 6,
   "metadata": {},
   "outputs": [],
   "source": [
    "%%capture\n",
    "# 🅑 CONSTRUCT DATA DICTIONARY.\n",
    "# We want to parse the pandas.DataFrame.info()  output so as to create\n",
    "# an structured object that can be exported into a csv for use as a \n",
    "# data dictionary. \n",
    "#\n",
    "# We use the io.StringIO() method to \"scrape\" the printed output into \n",
    "# a single character string. We then perform a series of splits.\n",
    "# ⓵ We split by the new-line character \"\\n\" and get a list of\n",
    "#    substrings, each of which corresponds to a set of metadata\n",
    "#    about an attribute.\n",
    "# ⓶ We truncate the first two and last two substrings. These contain\n",
    "#    output-object explanatory information that doesn't concern us.\n",
    "# ⓷ Next, we split each of these substrings by a single space.  We keep\n",
    "#    non-zero-length sub-substrings from each of the substrings. Since\n",
    "#    we had the foresight to replace all spaces in our attribute names\n",
    "#    with underscores, we have a regular list.\n",
    "# ④ Capture the results into a pandas.DataFrame() object and write to csv.\n",
    "# ⓹ Read in the modified data dictionary.\n",
    "# buffer = io.StringIO()\n",
    "# housing_raw.info(buf = buffer)\n",
    "# s = buffer.getvalue()\n",
    "# housing_profile_info = pd.merge(left = pd.DataFrame(data = [[substring\n",
    "#                                                               for substring in string_line.split(' ')\n",
    "#                                                               if len(substring) > 0]\n",
    "#                                                                 for string_line in s.split('\\n')[3:-3]],\n",
    "#                                                 columns = ['attribute_name','non_null_records',\n",
    "#                                                            'non_null', 'type'])\\\n",
    "#                                         .drop(labels = 'non_null',\n",
    "#                                               axis = 1)\\\n",
    "#                                         .set_index(keys = 'attribute_name'),\n",
    "#                                 right = pd.DataFrame(data = housing_raw.apply(func = lambda ζ : len(set(ζ)),\n",
    "#                                                                                   axis = 0),\n",
    "#                                                      columns = ['distinct_values']),\n",
    "#                                 left_index = True,\n",
    "#                                 right_index = True).assign(Notes = '')\\\n",
    "#                                                    .rename_axis(index = 'attribute')\n",
    "# housing_profile_info.to_csv(path_or_buf = os.path.join('./datasets',\n",
    "#                                                        'data_dictionary_template.csv'),\n",
    "#                             index = True)\n",
    "#\n",
    "# ⓺ Read in the modified data dictionary.\n",
    "data_dict_populated = pd.read_csv(filepath_or_buffer = os.path.join('../data',\n",
    "                                                                    'data_dictionary_populated.csv'))\\\n",
    "                                    .fillna(value = 'Use as provided')\\\n",
    "                                    .assign(cat_vars = lambda Ξ : [classify_attribute(note)\n",
    "                                                                         for note in Ξ['Notes']])\n",
    "\n",
    "# data_dict_md_writer = MarkdownTableWriter()\n",
    "# data_dict_md_writer.tabel_name = 'Aimes, IA Housing-Data Quality Assessment'           # Construct markdown table in\n",
    "# data_dict_md_writer.headers = data_dict_populated.columns.tolist()                    # accordance with package\n",
    "# data_dict_md_writer.value_matrix = np.ndarray.tolist(data_dict_populated.to_numpy())  # documentation.\n",
    "# data_dict_md_writer.write_table()\n",
    "ames_feature_cats = data_dict_populated.groupby(by = 'cat_vars')\\\n",
    "                                       .count()\\\n",
    "                                       ['attribute']\n",
    "\n"
   ]
  },
  {
   "cell_type": "markdown",
   "metadata": {},
   "source": [
    "<font color = '#0051ba'>\n",
    "\n",
    "We now do the data cleansing. We identified two attributes — `Lot_Frontage` and `Garage_Yr_Blt` — to be discarded. These attributes have substatial portions of missing values.  `Garage_Yr_Blt` in particular is very-closely correlated with `YearBuilt` attribute.  No obvious approach to attributing value to `Lot_Frontage` occurs.  We identified a small number of records for which no obvious approach to attributing missing values occured.\n",
    "\n",
    "We use `pandas.DataFrame.dropna()` method to discard records. We select the records by specifying the `subset` option. Our `subset` is indicated by the presence of a `Drop record` statement in the `disposition` column of `data_dict_populated`. \n",
    "\n",
    "We drop attributes using the `pandas.DataFrame.drop(axis = 1)` method.\n",
    "               \n",
    "</color>"
   ]
  },
  {
   "cell_type": "code",
   "execution_count": 7,
   "metadata": {},
   "outputs": [],
   "source": [
    "# Discard attributes\n",
    "discarded_attributes =\\\n",
    "data_dict_populated.set_index(keys = 'attribute')\\\n",
    "                   .loc[['Discard attribute' in disposition \n",
    "                         for disposition in data_dict_populated['Disposition']]]\\\n",
    "                   .index\\\n",
    "                   .tolist()\n",
    "discarded_records =\\\n",
    "data_dict_populated.set_index(keys = 'attribute')\\\n",
    "                   .loc[['Discard records' in disposition \n",
    "                         for disposition in data_dict_populated['Disposition']]]\\\n",
    "                   .index\\\n",
    "                   .tolist()\n",
    "#\n",
    "# Cleans, transform data.\n",
    "housing_profile = housing_raw.dropna(axis = 0,\n",
    "                                     how = 'any',\n",
    "                                     subset = discarded_records)\\\n",
    "                             .drop(labels = discarded_attributes,\n",
    "                                   axis = 1)\\\n",
    "                             .dropna(axis = 0,\n",
    "                                     how = 'any')\\\n",
    "                             .set_index(keys = 'Id')\n",
    "housing_profile = housing_raw.drop(labels = discarded_attributes,\n",
    "                                   axis = 1)\\\n",
    "                             .set_index(keys = 'Id')\n",
    "\n"
   ]
  },
  {
   "cell_type": "code",
   "execution_count": 8,
   "metadata": {},
   "outputs": [],
   "source": [
    "# We have attributes with null values.  We conditionally attribute values\n",
    "# based on the dataype.  Construct a dictionary for which the \n",
    "# keys are the attribute labels (column labels) with which null\n",
    "# values and the values are the datatype. We cycle through each\n",
    "# attribute and apply an pandas.DataFrame.fillna() method.  For \n",
    "# dype = \"object\", we apply \"unspecified\". We apply zeros\n",
    "# for dtype = \"float64\"\n",
    "attributes_with_nulls =\\\n",
    "pd.merge(left = pd.DataFrame(data = housing_profile.dtypes,\n",
    "                             columns = ['dtypes']),\n",
    "         right = pd.DataFrame(data = housing_profile.isna().any(axis = 0),\n",
    "                              columns = ['has_nulls']),\n",
    "         left_index = True,\n",
    "         right_index = True).rename_axis(index = 'attribute')\\\n",
    "                            .reset_index(drop = False)\\\n",
    "                            .set_index(keys = 'has_nulls')\\\n",
    "                            .loc[True]\\\n",
    "                            .assign(dtypes = lambda Ξ : Ξ['dtypes'].apply(func = str))\\\n",
    "                            .set_index(keys = 'attribute')\\\n",
    "                            .to_dict()\\\n",
    "                            .get('dtypes')\n",
    "\n",
    "for (attribute, dtype) in attributes_with_nulls.items():\n",
    "    if dtype == 'object':\n",
    "        housing_profile[attribute].fillna(value = 'unspecified',\n",
    "                                          inplace = True)\n",
    "    else:\n",
    "        housing_profile[attribute].fillna(value = 0,\n",
    "                                          inplace = True)\n",
    "\n",
    "\n"
   ]
  },
  {
   "cell_type": "code",
   "execution_count": 9,
   "metadata": {},
   "outputs": [],
   "source": [
    "# Now, begin visualizing Response-variable SalesPrice by \n",
    "# data types, attributes. We begin with categoricals.  We\n",
    "# identify our categoricals by their designation in the\n",
    "# data dictionary.\n",
    "categoricals = data_dict_populated.set_index(keys = 'attribute',\n",
    "                                             drop = False)\\\n",
    "                                  .sort_index(axis = 0)\\\n",
    "                                  .set_index(keys = 'cat_vars',\n",
    "                                             drop = False)\\\n",
    "                                  .loc['Categorical', 'attribute']\\\n",
    "                                  .tolist()\n",
    "categorical_paritions = partition_list(parted_list = categoricals,\n",
    "                                       partition_counts = 3)\n"
   ]
  },
  {
   "cell_type": "markdown",
   "metadata": {},
   "source": [
    "<font color = '#0051ba'>\n",
    "\n",
    "## 🅒 **Influential-variable analysis**.  Ascertain which variables are most-likely influential for our response variable `SalePrice`.  We have three classes of variables.\n",
    "    \n",
    "</font>"
   ]
  },
  {
   "cell_type": "code",
   "execution_count": 10,
   "metadata": {},
   "outputs": [
    {
     "data": {
      "text/plain": [
       "33"
      ]
     },
     "execution_count": 10,
     "metadata": {},
     "output_type": "execute_result"
    }
   ],
   "source": [
    "## 🧭🌡⏳🧭🌡⏳🧭🌡⏳🧭🌡⏳🧭🌡⏳🧭🌡⏳🧭🌡⏳🧭🌡⏳🧭🌡⏳🧭🌡⏳🧭🌡⏳ ##\n",
    "# Identify influential categorical variables. Solve the reciprocal problem.\n",
    "# Categoricals are influential with sales price if price indicates the\n",
    "# category.  Our reciprocal problem therefore is to solve a multinomial\n",
    "# regression problem for each categorical to see how well the SalesPrice\n",
    "# predicts it.  We take the categoricals for which the associated model\n",
    "# accuracy scores above a specified threshold.\n",
    "categ_by_price = dict()\n",
    "cat_var = categoricals[0]\n",
    "for cat_var in categoricals:\n",
    "    cat_log_fit = LogisticRegression(multi_class = 'multinomial',\n",
    "                                     solver = 'lbfgs')\n",
    "    cat_log_fit.fit(X = housing_profile[['SalePrice']],\n",
    "                    y = housing_profile[cat_var])\n",
    "    categ_by_price.update({cat_var : cat_log_fit.score(X = housing_profile[['SalePrice']],\n",
    "                                                       y = housing_profile[cat_var])})\n",
    "influential_categoricals = set([key\n",
    "                                for (key, val) in categ_by_price.items()\n",
    "                                if val >= 0.55] + ['Neighborhood']).union({'GrLivAreaLarge'})\n",
    "\n",
    "len(influential_categoricals)"
   ]
  },
  {
   "cell_type": "code",
   "execution_count": 11,
   "metadata": {},
   "outputs": [],
   "source": [
    "#\n",
    "# Now, we visualize our continuous numerical variables. We look at pair-plot\n",
    "# scatters and at correlation heatmaps.\n",
    "numericals =data_dict_populated.loc[['Discard attribute.' not in dispos\n",
    "                                         for dispos in data_dict_populated['Disposition']]]\\\n",
    "                                .set_index(keys = 'cat_vars')\\\n",
    "                                .loc['Continuous', 'attribute']\\\n",
    "                                .tolist()\n"
   ]
  },
  {
   "cell_type": "code",
   "execution_count": 12,
   "metadata": {},
   "outputs": [
    {
     "data": {
      "text/plain": [
       "['GarageArea',\n",
       " 'GrLivArea',\n",
       " 'MasVnrArea',\n",
       " 'TotalBsmtSF',\n",
       " 'YearBuilt',\n",
       " 'YearRemodAdd']"
      ]
     },
     "execution_count": 12,
     "metadata": {},
     "output_type": "execute_result"
    }
   ],
   "source": [
    "## 🧭🌡⏳🧭🌡⏳🧭🌡⏳🧭🌡⏳🧭🌡⏳🧭🌡⏳🧭🌡⏳🧭🌡⏳🧭🌡⏳🧭🌡⏳🧭🌡⏳ ##\n",
    "# Identify influential continuous explanatory variables. These are variables for\n",
    "# whith the correlation with the response variable exceeds a specified threshold.\n",
    "sales_price_cont_corr = housing_profile[numericals + ['SalePrice']]\\\n",
    "                                      .corr()\\\n",
    "                                      .loc['SalePrice']\n",
    "influental_continuous = sales_price_cont_corr.loc[(np.abs(sales_price_cont_corr) >= 0.45) &\\\n",
    "                                                   (np.abs(sales_price_cont_corr) != 1)].index.tolist()\n",
    "influental_continuous"
   ]
  },
  {
   "cell_type": "code",
   "execution_count": 13,
   "metadata": {},
   "outputs": [
    {
     "data": {
      "text/plain": [
       "['BedroomAbvGr',\n",
       " 'BsmtFullBath',\n",
       " 'BsmtHalfBath',\n",
       " 'Fireplaces',\n",
       " 'FullBath',\n",
       " 'GarageCars',\n",
       " 'HalfBath',\n",
       " 'KitchenAbvGr',\n",
       " 'OverallCond',\n",
       " 'OverallQual',\n",
       " 'TotRmsAbvGrd']"
      ]
     },
     "execution_count": 13,
     "metadata": {},
     "output_type": "execute_result"
    }
   ],
   "source": [
    "discretes = data_dict_populated.set_index(keys = 'attribute',\n",
    "                                                  drop = False)\\\n",
    "                                .drop(labels = ['Id', 'PID', 'SalePrice'] +\\\n",
    "                                                discarded_attributes)\\\n",
    "                                .sort_index()\\\n",
    "                                .set_index(keys = 'cat_vars',\n",
    "                                           drop = False)\\\n",
    "                                .loc['Discrete', 'attribute']\\\n",
    "                                .tolist()\n",
    "\n",
    "discretes"
   ]
  },
  {
   "cell_type": "code",
   "execution_count": 14,
   "metadata": {},
   "outputs": [
    {
     "data": {
      "text/plain": [
       "['Fireplaces', 'FullBath', 'GarageCars', 'OverallQual', 'TotRmsAbvGrd']"
      ]
     },
     "execution_count": 14,
     "metadata": {},
     "output_type": "execute_result"
    }
   ],
   "source": [
    "## 🧭🌡⏳🧭🌡⏳🧭🌡⏳🧭🌡⏳🧭🌡⏳🧭🌡⏳🧭🌡⏳🧭🌡⏳🧭🌡⏳🧭🌡⏳🧭🌡⏳ ##\n",
    "\n",
    "sales_price_discr_corr = housing_profile[discretes + ['SalePrice']]\\\n",
    "                                      .corr()\\\n",
    "                                      .loc['SalePrice']\n",
    "influental_discretes = sales_price_discr_corr.loc[(np.abs(sales_price_discr_corr) >= 0.45) &\\\n",
    "                                                   (np.abs(sales_price_discr_corr) != 1)].index.tolist()\n",
    "influental_discretes"
   ]
  },
  {
   "cell_type": "markdown",
   "metadata": {},
   "source": [
    "<font color = '#0051ba'>\n",
    "\n",
    "## 🅓 **Feature engineering.** \n",
    "\n",
    "</font>"
   ]
  },
  {
   "cell_type": "code",
   "execution_count": 15,
   "metadata": {},
   "outputs": [],
   "source": [
    "## 🐘🐫🐪🐎🐕🐂🐘🐫🐪🐎🐕🐂🐘🐫🐪🐎🐕🐂🐘🐫🐪🐎🐕🐂🐘🐫🐪🐎🐕🐂🐘🐫🐪🐎🐕🐂 ##\n",
    "# FEATURE ENGINEERING.  Derive dummy variables for the influential categorical\n",
    "# variables in both the training and unseen data.\n",
    "sac_house_model_mtx0 = pd.get_dummies(\n",
    "            data = housing_profile[set().union(*[influential_categoricals,\n",
    "                                                  influental_continuous,\n",
    "                                                  influental_discretes,\n",
    "                                                 ['SalePrice']])],\n",
    "            columns = influential_categoricals,\n",
    "            drop_first = True)\n",
    "\n",
    "#\n",
    "sac_model_tts = dict(zip(['X_train', 'X_test', 'y_train', 'y_test'],\n",
    "                         train_test_split(sac_house_model_mtx0.drop(labels = 'SalePrice',\n",
    "                                                                    axis = 1),\n",
    "                                          np.log(sac_house_model_mtx0['SalePrice']),\n",
    "                                          train_size = 0.75,\n",
    "                                          test_size = 0.25,\n",
    "                                          random_state = 30214)))\n",
    "sac_model_scaler = StandardScaler()\n",
    "sac_model_scaler.fit(sac_model_tts.get('X_train'))\n",
    "sac_model_tts.update({'X_train_scaled' : sac_model_scaler.transform(sac_model_tts.get('X_train')),\n",
    "                      'X_test_scaled' : sac_model_scaler.transform(sac_model_tts.get('X_test'))})"
   ]
  },
  {
   "cell_type": "code",
   "execution_count": 16,
   "metadata": {},
   "outputs": [
    {
     "name": "stdout",
     "output_type": "stream",
     "text": [
      "Fitting 5 folds for each of 20 candidates, totalling 100 fits\n"
     ]
    },
    {
     "name": "stderr",
     "output_type": "stream",
     "text": [
      "[Parallel(n_jobs=10)]: Using backend LokyBackend with 10 concurrent workers.\n",
      "[Parallel(n_jobs=10)]: Done  30 tasks      | elapsed:   20.5s\n",
      "[Parallel(n_jobs=10)]: Done 100 out of 100 | elapsed:   38.9s finished\n"
     ]
    },
    {
     "name": "stdout",
     "output_type": "stream",
     "text": [
      "Train 𝘙² : 0.8571379610712819\n",
      "Test 𝘙² : 0.870355375515873\n"
     ]
    },
    {
     "data": {
      "text/plain": [
       "{'max_depth': 15, 'min_samples_leaf': 3, 'min_samples_split': 3}"
      ]
     },
     "execution_count": 16,
     "metadata": {},
     "output_type": "execute_result"
    },
    {
     "data": {
      "image/png": "[encoded data removed]",
      "text/plain": [
       "<Figure size 1080x540 with 4 Axes>"
      ]
     },
     "metadata": {
      "needs_background": "light"
     },
     "output_type": "display_data"
    }
   ],
   "source": [
    "# Conduct a gridsearch over \"tuning\" parameters for a\n",
    "# Random-forest Regressor.\n",
    "ames_randfor_gs = GridSearchCV(estimator = RandomForestRegressor(random_state = 30214,\n",
    "                                                                    n_estimators = 50,\n",
    "                                                                    criterion = 'mse'),\n",
    "                              param_grid = {'max_depth' : [12,13,14,15,16],\n",
    "                                            'min_samples_split' : range(3,5),\n",
    "                                            'min_samples_leaf' : range(3,5)},\n",
    "                              refit = True,\n",
    "                              cv = 5,\n",
    "                              n_jobs = 10,\n",
    "                              verbose = True)\n",
    "ames_randfor_gs.fit(X = sac_model_tts.get('X_train'),\n",
    "                    y = sac_model_tts.get('y_train'))\n",
    "print('Train 𝘙² : {}\\nTest 𝘙² : {}'\n",
    "      .format(ames_randfor_gs.best_score_,\n",
    "              ames_randfor_gs.score(X = sac_model_tts.get('X_test'),\n",
    "                                    y = sac_model_tts.get('y_test'))))\n",
    "response_residual_plots(y_test = np.exp(sac_model_tts.get('y_test')), \n",
    "                        y_train = np.exp(sac_model_tts.get('y_train')), \n",
    "                        fit_test = np.exp(ames_randfor_gs.predict(X = sac_model_tts.get('X_test') )), \n",
    "                        fit_train = np.exp(ames_randfor_gs.predict(X = sac_model_tts.get('X_train') )), \n",
    "                        plot_title = 'Response, residual plots for Random Forest.')\n",
    "ames_randfor_gs.best_params_"
   ]
  },
  {
   "cell_type": "markdown",
   "metadata": {},
   "source": [
    "<font color = '#0051ba'>\n",
    "\n",
    "## 🅔 **Quantitative analysis of residuals.** \n",
    "\n",
    "</font>\n",
    "\n",
    "Making decisions based upon statistical evidence begins recognizing the bounded certainty of the latter. Classical statistics addresses this through analysis of variance (ANOVA) [e.g., [Sahai2004](https://t.ly/R1hc), [Huberty2006](https://t.ly/M7ip)] and *residual analysis* [e.g., [Dielman2005](https://amz.run/4LdZ), [Olive2017](https://t.ly/i0S6)]. These methods involve assumptions about the statistical structure — families of distributions — of explanatory variables and resulting model parameters. This allows for sophisticated statistical inference about the explantory and predictive power. \n",
    "\n",
    "Machine learning (ML) abandons these statistical-structure assumptions, which often do not hold up well in reality anyway. Statistical inference — quantitative characterization about a model's explanatory and predictive power — becomes therefore problematic. Residual analyisis is not therefore generally attempted in ML practice. Quantative characterization of a model is limited to model scoring.  Model scores are often single-quantity statistics indicating goodness of fit. Such information is arguably too-compact for ML practitioners — let alone less-quantatively initiated consumers of ML work products — for other than shallow insight into a model's residual uncertainty.\n",
    "\n",
    "Residual uncertainty is nonetheless an indisputed aspect of ML.  G. E. P. Box' often-misinterpreted observation, \"All models are wrong but some are useful,\" [[Box1976](https://www.tandfonline.com/doi/abs/10.1080/01621459.1976.10480949)] acknowledges this. The \"Bias-Variance Tradeoff\" — central to ML practice — also recognizes this [[Hastie2009, §2.9](https://www.springer.com/gp/book/9780387848570)]. That the \"Bias-Variance Decomposition\" (BVD) [[Hastie2009](https://www.springer.com/gp/book/9780387848570)] contains a third term — *irreducible error* — in addition to *bias* and *variance* is less-ubiquitiously considered in ML practice however.\n",
    "\n",
    "Residual analysis gets at the heart of the residual-error component of the BVD. Assuming an optimum ML model — one in which model scores for training and test data sets are balanced — the residuals approximately correspond to teh *irreducible error*. This is variability in the data that defy explanation by the model.\n",
    "\n",
    "Now, residual analysis in classical statistics assumes that explanatory variables, model parameters, and residuals conform to probability distributions represented by mathematically-tractable functions [[Cox1974](https://amz.run/4LgN)]. These functions often belong to an *exponential family* of distributions [[Agresti2013](https://amz.run/4LgO)]. Absent evidence that such conditions apply, statistical inference becomes problematic.\n",
    "\n",
    "The alternatives are limited. Kernel-density estimation (KDE) provides one approach [[Hastie2009, §6.6](https://www.springer.com/gp/book/9780387848570)]. Extending KDEs beyond the data set from which they are calculated is nontrivial. Empirical Cumulative Distribution Functions (ECDFs) are another approach [[DeJesus2019](https://towardsdatascience.com/what-why-and-how-to-read-empirical-cdf-123e2b922480)]. These are only slightly more extensible. Recent research explored the combination of the two [[Langrené2020](https://arxiv.org/pdf/2005.03246.pdf)].\n",
    "\n",
    "A breakthrough from the Decision-Analysis community fortunately produced a much more-portable approach to dealing with empirical distributions of the type that occur in residual analysis. The *metalog distributions* allow such distributions to be represented using closed-form, smooth, continuously-differentiable series [[Keelin2016](https://pubsonline.informs.org/doi/10.1287/deca.2016.0338)]. This research applies metalog distributions to \n",
    "\n"
   ]
  },
  {
   "cell_type": "code",
   "execution_count": 17,
   "metadata": {},
   "outputs": [],
   "source": [
    "pred_price_all = np.exp(ames_randfor_gs.predict(X = sac_house_model_mtx0.drop(labels = 'SalePrice',\n",
    "                                                                              axis = 1)))\n",
    "pred_price_scaler = StandardScaler().fit(np.reshape(a = pred_price_all,\n",
    "                                                    newshape = (len(pred_price_all), 1)))\n",
    "pred_price_scaled = pred_price_scaler.transform(np.reshape(a = pred_price_all,\n",
    "                                                           newshape = (len(pred_price_all), 1)) )\n",
    "obs_price_all = sac_house_model_mtx0['SalePrice'].to_numpy()\n",
    "pred_resid_all = obs_price_all - pred_price_all\n",
    "resid_dist_lowess = lowess(endog = pred_resid_all,\n",
    "                           exog = pred_price_all)"
   ]
  },
  {
   "cell_type": "code",
   "execution_count": 18,
   "metadata": {},
   "outputs": [],
   "source": [
    "ordered_resids = pd.DataFrame(data = {'pred_price_scaled' : pred_price_scaled[:,0],\n",
    "                                      'pred_price_all' : pred_price_all,\n",
    "                                      'obs_price_all' : obs_price_all}).sort_values(by = 'pred_price_all')"
   ]
  },
  {
   "cell_type": "code",
   "execution_count": 19,
   "metadata": {},
   "outputs": [
    {
     "name": "stdout",
     "output_type": "stream",
     "text": [
      "Fitting 5 folds for each of 270 candidates, totalling 1350 fits\n"
     ]
    },
    {
     "name": "stderr",
     "output_type": "stream",
     "text": [
      "[Parallel(n_jobs=10)]: Using backend LokyBackend with 10 concurrent workers.\n",
      "[Parallel(n_jobs=10)]: Done  40 tasks      | elapsed:    0.4s\n",
      "[Parallel(n_jobs=10)]: Done 620 tasks      | elapsed:    3.1s\n",
      "[Parallel(n_jobs=10)]: Done 1350 out of 1350 | elapsed:    8.2s finished\n"
     ]
    },
    {
     "data": {
      "text/plain": [
       "{'algorithm': 'brute', 'n_neighbors': 97, 'weights': 'uniform'}"
      ]
     },
     "execution_count": 19,
     "metadata": {},
     "output_type": "execute_result"
    }
   ],
   "source": [
    "resid_kneighb_reg = GridSearchCV(estimator = KNeighborsRegressor(),\n",
    "                                  param_grid = {'n_neighbors' : range(80, 125),\n",
    "                                                'algorithm' : ['ball_tree', 'kd_tree', 'brute'],\n",
    "                                                'weights' : ['uniform', 'distance']},\n",
    "\n",
    "                                  refit = True,\n",
    "                                  cv = 5,\n",
    "                                  n_jobs = 10,\n",
    "                                  scoring = 'neg_root_mean_squared_error',\n",
    "                                  verbose = True).fit(X = pred_price_scaled,\n",
    "                                                      y = pred_resid_all)\n",
    "resid_kneighb_reg.best_params_"
   ]
  },
  {
   "cell_type": "code",
   "execution_count": 20,
   "metadata": {},
   "outputs": [
    {
     "data": {
      "text/plain": [
       "[<matplotlib.lines.Line2D at 0x7f8c36714160>]"
      ]
     },
     "execution_count": 20,
     "metadata": {},
     "output_type": "execute_result"
    },
    {
     "data": {
      "image/png": "[encoded data removed]",
      "text/plain": [
       "<Figure size 582.492x360 with 1 Axes>"
      ]
     },
     "metadata": {
      "needs_background": "light"
     },
     "output_type": "display_data"
    }
   ],
   "source": [
    "resid_fig, resid_ax = plt.subplots(nrows = 1,\n",
    "                                   ncols = 1,\n",
    "                                   figsize = (5 * golden, 5))\n",
    "resid_ax.scatter(pred_price_all,\n",
    "                 pred_resid_all,\n",
    "                 marker = '+',\n",
    "                 s = 10,\n",
    "                 color = '#0051ba')\n",
    "resid_ax.plot(ordered_resids['pred_price_all'],\n",
    "              resid_kneighb_reg.predict(X = ordered_resids[['pred_price_scaled']]),\n",
    "              color = '#c66e4e',\n",
    "              linewidth = 4)\n",
    "resid_ax.plot(resid_dist_lowess[:,0],\n",
    "              resid_dist_lowess[:,1],\n",
    "              color = '#f2a900',\n",
    "              linestyle = '-.',\n",
    "              linewidth = 1.5)"
   ]
  },
  {
   "cell_type": "code",
   "execution_count": 21,
   "metadata": {},
   "outputs": [
    {
     "data": {
      "text/plain": [
       "<AxesSubplot:>"
      ]
     },
     "execution_count": 21,
     "metadata": {},
     "output_type": "execute_result"
    },
    {
     "data": {
      "image/png": "[encoded data removed]",
      "text/plain": [
       "<Figure size 432x288 with 1 Axes>"
      ]
     },
     "metadata": {
      "needs_background": "light"
     },
     "output_type": "display_data"
    }
   ],
   "source": [
    "sns.kdeplot(y = pred_resid_all,\n",
    "            x = pred_price_all)"
   ]
  },
  {
   "cell_type": "code",
   "execution_count": null,
   "metadata": {},
   "outputs": [],
   "source": []
  }
 ],
 "metadata": {
  "kernelspec": {
   "display_name": "Python 3",
   "language": "python",
   "name": "python3"
  },
  "language_info": {
   "codemirror_mode": {
    "name": "ipython",
    "version": 3
   },
   "file_extension": ".py",
   "mimetype": "text/x-python",
   "name": "python",
   "nbconvert_exporter": "python",
   "pygments_lexer": "ipython3",
   "version": "3.8.5"
  }
 },
 "nbformat": 4,
 "nbformat_minor": 4
}
